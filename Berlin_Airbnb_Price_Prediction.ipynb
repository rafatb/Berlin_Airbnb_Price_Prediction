{
 "cells": [
  {
   "metadata": {
    "id": "8a77807f92f26ee"
   },
   "cell_type": "markdown",
   "source": [
    "### Connect to google drive\n"
   ],
   "id": "8a77807f92f26ee"
  },
  {
   "cell_type": "code",
   "source": [
    "from google.colab import drive\n",
    "drive.mount('/content/drive')"
   ],
   "metadata": {
    "colab": {
     "base_uri": "https://localhost:8080/"
    },
    "id": "yY2MTrkNd8ot",
    "outputId": "b9293d92-17ac-45db-fd91-66c76df3a412"
   },
   "id": "yY2MTrkNd8ot",
   "execution_count": null,
   "outputs": [
    {
     "output_type": "stream",
     "name": "stdout",
     "text": [
      "Mounted at /content/drive\n"
     ]
    }
   ]
  },
  {
   "cell_type": "code",
   "source": [
    "!pip install missingno\n",
    "!pip install geopy"
   ],
   "metadata": {
    "colab": {
     "base_uri": "https://localhost:8080/"
    },
    "id": "6YsdAhn1LKYb",
    "outputId": "ce845d33-4007-4965-efcc-055637cc0d81"
   },
   "id": "6YsdAhn1LKYb",
   "outputs": [],
   "execution_count": null
  },
  {
   "cell_type": "markdown",
   "source": [
    "### read 2019 Berline Airbnb Dataset\n",
    "This file already contains only 2019 data , data reduced due to its extream size\n"
   ],
   "metadata": {
    "id": "0mThcLO7KkO6"
   },
   "id": "0mThcLO7KkO6"
  },
  {
   "metadata": {
    "ExecuteTime": {
     "end_time": "2025-02-28T11:26:49.262999Z",
     "start_time": "2025-02-28T11:26:48.946630Z"
    },
    "id": "fbc121e30a2defb3"
   },
   "cell_type": "code",
   "source": [
    "import seaborn as sns\n",
    "import matplotlib.pyplot as plt\n",
    "import pandas as pd\n",
    "import numpy as np\n",
    "import warnings\n",
    "\n",
    "# Ignore warnings\n",
    "warnings.filterwarnings('ignore')\n",
    "\n",
    "pd.set_option('display.max_columns', None)\n",
    "# pd.set_option('display.max_rows', 500)\n",
    "\n",
    "df = pd.read_csv('/content/drive/MyDrive/kaggle/berline/berline_filtered_2019.csv')\n",
    "pd.set_option('display.max_columns', None)\n",
    "\n"
   ],
   "id": "fbc121e30a2defb3",
   "outputs": [],
   "execution_count": null
  },
  {
   "cell_type": "markdown",
   "source": [
    "### Data Prepeartion"
   ],
   "metadata": {
    "id": "NvaOP7nUMNkk"
   },
   "id": "NvaOP7nUMNkk"
  },
  {
   "cell_type": "markdown",
   "source": [
    "### feature selection  (round #1)\n",
    "in this section we going to drop all the.\n",
    "* redundant / duplicate data.\n",
    "* drop all the column that contains same value , these data is not useful.\n",
    "* drop columns that almost not containing any data.\n",
    "* drop all the data the clearly will not help me during this jurney , like (Urls , reviewer  id , reviewer name ... )"
   ],
   "metadata": {
    "id": "379IX769MmHH"
   },
   "id": "379IX769MmHH"
  },
  {
   "cell_type": "code",
   "source": [
    "df = df.drop(columns=['Review ID', 'Reviewer ID', 'Reviewer Name', 'Listing URL','Listing Name','Host ID', 'Host URL', 'Host Name',\n",
    "                           'City', 'Country Code', 'Country','First Review', 'Last Review', 'Square Feet', 'Business Travel Ready',\n",
    "            ])"
   ],
   "metadata": {
    "id": "GOdxk4MZjQKW"
   },
   "id": "GOdxk4MZjQKW",
   "execution_count": null,
   "outputs": []
  },
  {
   "cell_type": "code",
   "source": [
    "print(df.info())"
   ],
   "metadata": {
    "colab": {
     "base_uri": "https://localhost:8080/"
    },
    "id": "7BYqMzYjQ00p",
    "outputId": "c8848ed6-16c0-446b-934f-56232ad7dbd1"
   },
   "id": "7BYqMzYjQ00p",
   "execution_count": null,
   "outputs": [
    {
     "output_type": "stream",
     "name": "stdout",
     "text": [
      "<class 'pandas.core.frame.DataFrame'>\n",
      "RangeIndex: 66833 entries, 0 to 66832\n",
      "Data columns (total 33 columns):\n",
      " #   Column                Non-Null Count  Dtype  \n",
      "---  ------                --------------  -----  \n",
      " 0   Comments              66782 non-null  object \n",
      " 1   Listing ID            66833 non-null  int64  \n",
      " 2   Host Since            66833 non-null  object \n",
      " 3   Host Response Time    65868 non-null  object \n",
      " 4   Host Response Rate    65868 non-null  object \n",
      " 5   Is Superhost          66833 non-null  object \n",
      " 6   neighbourhood         66833 non-null  object \n",
      " 7   Neighborhood Group    66833 non-null  object \n",
      " 8   Postal Code           65737 non-null  object \n",
      " 9   Latitude              66833 non-null  float64\n",
      " 10  Longitude             66833 non-null  float64\n",
      " 11  Is Exact Location     66833 non-null  object \n",
      " 12  Property Type         66833 non-null  object \n",
      " 13  Room Type             66833 non-null  object \n",
      " 14  Accomodates           66833 non-null  int64  \n",
      " 15  Bathrooms             66791 non-null  float64\n",
      " 16  Bedrooms              66763 non-null  float64\n",
      " 17  Beds                  66829 non-null  float64\n",
      " 18  Price                 66833 non-null  object \n",
      " 19  Guests Included       66833 non-null  int64  \n",
      " 20  Min Nights            66833 non-null  int64  \n",
      " 21  Reviews               66833 non-null  int64  \n",
      " 22  Overall Rating        66719 non-null  float64\n",
      " 23  Accuracy Rating       66719 non-null  float64\n",
      " 24  Cleanliness Rating    66719 non-null  float64\n",
      " 25  Checkin Rating        66719 non-null  float64\n",
      " 26  Communication Rating  66719 non-null  float64\n",
      " 27  Location Rating       66719 non-null  float64\n",
      " 28  Value Rating          66719 non-null  float64\n",
      " 29  Instant Bookable      66833 non-null  object \n",
      " 30  year                  66833 non-null  int64  \n",
      " 31  month                 66833 non-null  int64  \n",
      " 32  day                   66833 non-null  int64  \n",
      "dtypes: float64(12), int64(8), object(13)\n",
      "memory usage: 16.8+ MB\n",
      "None\n"
     ]
    }
   ]
  },
  {
   "cell_type": "markdown",
   "source": "#Replace and clean values from numbers , like $,% and more",
   "metadata": {
    "id": "MKVxwvOxTBgr"
   },
   "id": "MKVxwvOxTBgr"
  },
  {
   "cell_type": "code",
   "source": [
    "# remove the $ from price\n",
    "df['Price'] = df['Price'].replace('[\\$,]', '', regex=True).astype(float)\n",
    "\n",
    "# remove the % from 'Host Response Rate'\n",
    "df['Host Response Rate'] = df['Host Response Rate'].replace('[\\%,]', '', regex=True).astype(float)\n",
    "\n",
    "# Fix Postal Code incorrect values, remove '\\n'and other irrelevant text\n",
    "df['Postal Code'] = df['Postal Code'].astype(str).str[:5]"
   ],
   "metadata": {
    "id": "FebFSR5jSL92"
   },
   "id": "FebFSR5jSL92",
   "execution_count": null,
   "outputs": []
  },
  {
   "cell_type": "markdown",
   "source": [
    "### reduce the following wide catigories :\n",
    "* Host Response Rate Grouped\n",
    "* Overall Rating\n",
    "* Neighbourhood Grouped\n",
    "* property_types\n",
    "* Postal Code"
   ],
   "metadata": {
    "id": "qefUZCXEVW4n"
   },
   "id": "qefUZCXEVW4n"
  },
  {
   "cell_type": "code",
   "source": [
    "# Define bins and labels for 'Host Response Rate'\n",
    "bins = [0, 50, 80, 95, 100]\n",
    "labels = [\"Low Response\", \"Moderate Response\", \"High Response\", \"Very High Response\"]\n",
    "\n",
    "# Apply pd.cut() to create a new binned column\n",
    "df[\"Host Response Rate Grouped Cleansed\"] = pd.cut(df[\"Host Response Rate\"], bins=bins, labels=labels, include_lowest=True)\n",
    "\n",
    "#  Reduce Categories\n",
    "df['Overall Rating Grouped Cleansed'] = df['Overall Rating'].apply(lambda x: np.ceil(x/10))\n",
    "\n",
    "\n",
    "# 2. Grouping neighbourhoods into Neighborhood Groups\n",
    "neighbourhood_mapping = df.groupby('neighbourhood')['Neighborhood Group'].first()\n",
    "df['Neighbourhood Grouped Cleansed'] = df['neighbourhood'].map(neighbourhood_mapping)\n",
    "\n",
    "# 3. Reducing Property Types\n",
    "property_mapping = {\n",
    "    \"Villa\": \"Vacation Rental\",\n",
    "    \"Cottage\": \"Vacation Rental\",\n",
    "    \"Bungalow\": \"Vacation Rental\",\n",
    "    \"Cabin\": \"Vacation Rental\",\n",
    "    \"Tiny house\": \"Vacation Rental\",\n",
    "    \"Earth house\": \"Vacation Rental\",\n",
    "    \"Treehouse\": \"Vacation Rental\",\n",
    "    \"Hut\": \"Vacation Rental\",\n",
    "    \"Barn\": \"Vacation Rental\",\n",
    "    \"Houseboat\": \"Boats & Houseboats\",\n",
    "    \"Boat\": \"Boats & Houseboats\",\n",
    "    \"Camper/RV\": \"Mobile/Alternative Lodging\",\n",
    "    \"Cave\": \"Mobile/Alternative Lodging\",\n",
    "    \"Pension (South Korea)\": \"Mobile/Alternative Lodging\",\n",
    "    \"Casa particular (Cuba)\": \"Mobile/Alternative Lodging\",\n",
    "}\n",
    "\n",
    "# Apply mapping and assign 'Other' to rare categories\n",
    "top_property_types = [\n",
    "    \"Apartment\", \"Loft\", \"House\", \"Townhouse\", \"Condominium\", \"Serviced apartment\",\n",
    "    \"Hotel\", \"Hostel\", \"Guesthouse\", \"Bed and breakfast\", \"Boutique hotel\"\n",
    "]\n",
    "\n",
    "df['Property Type Cleansed'] = df['Property Type'].apply(\n",
    "    lambda x: property_mapping.get(x, x) if x in top_property_types or x in property_mapping else \"Other\"\n",
    ")\n",
    "\n",
    "# 4. Binning Postal Codes (first two digits represent broad area)\n",
    "df['Postal Code Cleansed'] = df['Postal Code'].astype(str).str[:2]  # Use only first 2 digits"
   ],
   "metadata": {
    "id": "PVSfV65PVlpA"
   },
   "id": "PVSfV65PVlpA",
   "execution_count": null,
   "outputs": []
  },
  {
   "cell_type": "markdown",
   "source": "### Transform data:",
   "metadata": {
    "id": "Rel5bUc2Wz_P"
   },
   "id": "Rel5bUc2Wz_P"
  },
  {
   "cell_type": "code",
   "source": [
    "# Extracting years from date columns\n",
    "df['Host Since'] = pd.to_datetime(df['Host Since'])\n",
    "df['Host Since Year Cleansed'] = df['Host Since'].dt.year\n",
    "\n",
    "#transform true/false into bool\n",
    "df['Instant Bookable Cleansed'] = df['Instant Bookable'].replace({'t': True, 'f': False})\n",
    "df['Is Superhost Cleansed'] = df['Is Superhost'].replace({'t': True, 'f': False})\n",
    "df['Is Exact Location Cleansed'] = df['Is Exact Location'].replace({'t': True, 'f': False})\n",
    "df['Instant Bookable Cleansed'] = df['Instant Bookable'].replace({'t': True, 'f': False})"
   ],
   "metadata": {
    "id": "6DDxB-wXT7LC"
   },
   "id": "6DDxB-wXT7LC",
   "execution_count": null,
   "outputs": []
  },
  {
   "cell_type": "markdown",
   "source": [
    "### Generating new features from existing data:\n",
    "Calculate the distance of each listing from Berlin's center and join each listing to a group.\n",
    "Each group will contain listings that are within a specific distance from the center"
   ],
   "metadata": {
    "id": "PRU3zOm3XOjm"
   },
   "id": "PRU3zOm3XOjm"
  },
  {
   "cell_type": "code",
   "source": [
    "from geopy.distance import great_circle\n",
    "def distance_to_mid(lat, lon):\n",
    "    berlin_centre = (52.5027778, 13.404166666666667)\n",
    "    accommodation = (lat, lon)\n",
    "    return great_circle(berlin_centre, accommodation).km\n",
    "\n",
    "df['Distance From Center Cleansed'] = df.apply(lambda row: round(distance_to_mid(row['Latitude'], row['Longitude']), 1), axis=1)\n",
    "bins = [0, 0.5, 1, 2, 4, 8, 16]\n",
    "labels = [\"Center\", \"Center1\", \"Center2\", \"Center4\", \"Center8\", \"Center16\"]\n",
    "\n",
    "# Apply pd.cut() to create a new binned column\n",
    "df[\"Distance From Center Grouped Cleansed\"] = pd.cut(df[\"Distance From Center Cleansed\"], bins=bins, labels=labels, include_lowest=True)"
   ],
   "metadata": {
    "id": "qmHQ4jwtXVcE"
   },
   "id": "qmHQ4jwtXVcE",
   "execution_count": null,
   "outputs": []
  },
  {
   "cell_type": "markdown",
   "source": [
    "### cleaning data (Round: #2)\n",
    "dropping the following feature , after using them to calculate new clean features."
   ],
   "metadata": {
    "id": "N31g0hhQXho7"
   },
   "id": "N31g0hhQXho7"
  },
  {
   "cell_type": "code",
   "source": [
    "df.drop(columns=['Host Since', 'neighbourhood', 'Latitude', 'Longitude', 'Property Type', 'Postal Code',\n",
    "                 'Host Response Rate', 'Overall Rating','Instant Bookable', 'Is Superhost',\n",
    "                 'Is Exact Location','Destance From Center Cleansed',\n",
    "                 'Comments'], inplace=True)"
   ],
   "metadata": {
    "id": "GQXCa-OLXhHq"
   },
   "id": "GQXCa-OLXhHq",
   "execution_count": null,
   "outputs": []
  },
  {
   "cell_type": "code",
   "source": [
    "df.info()"
   ],
   "metadata": {
    "colab": {
     "base_uri": "https://localhost:8080/"
    },
    "id": "5MwIu2mZZKMv",
    "outputId": "6bee4e33-1795-4cc7-d1e1-7930f47b52ee"
   },
   "id": "5MwIu2mZZKMv",
   "execution_count": null,
   "outputs": [
    {
     "output_type": "stream",
     "name": "stdout",
     "text": [
      "<class 'pandas.core.frame.DataFrame'>\n",
      "RangeIndex: 66833 entries, 0 to 66832\n",
      "Data columns (total 31 columns):\n",
      " #   Column                                 Non-Null Count  Dtype   \n",
      "---  ------                                 --------------  -----   \n",
      " 0   Listing ID                             66833 non-null  int64   \n",
      " 1   Host Response Time                     65868 non-null  object  \n",
      " 2   Neighborhood Group                     66833 non-null  object  \n",
      " 3   Room Type                              66833 non-null  object  \n",
      " 4   Accomodates                            66833 non-null  int64   \n",
      " 5   Bathrooms                              66791 non-null  float64 \n",
      " 6   Bedrooms                               66763 non-null  float64 \n",
      " 7   Beds                                   66829 non-null  float64 \n",
      " 8   Price                                  66833 non-null  float64 \n",
      " 9   Guests Included                        66833 non-null  int64   \n",
      " 10  Min Nights                             66833 non-null  int64   \n",
      " 11  Reviews                                66833 non-null  int64   \n",
      " 12  Accuracy Rating                        66719 non-null  float64 \n",
      " 13  Cleanliness Rating                     66719 non-null  float64 \n",
      " 14  Checkin Rating                         66719 non-null  float64 \n",
      " 15  Communication Rating                   66719 non-null  float64 \n",
      " 16  Location Rating                        66719 non-null  float64 \n",
      " 17  Value Rating                           66719 non-null  float64 \n",
      " 18  year                                   66833 non-null  int64   \n",
      " 19  month                                  66833 non-null  int64   \n",
      " 20  day                                    66833 non-null  int64   \n",
      " 21  Host Response Rate Grouped Cleansed    65868 non-null  category\n",
      " 22  Overall Rating Grouped Cleansed        66719 non-null  float64 \n",
      " 23  Neighbourhood Grouped Cleansed         66833 non-null  object  \n",
      " 24  Property Type Cleansed                 66833 non-null  object  \n",
      " 25  Postal Code Cleansed                   66833 non-null  object  \n",
      " 26  Instant Bookable Cleansed              66833 non-null  bool    \n",
      " 27  Is Superhost Cleansed                  66833 non-null  bool    \n",
      " 28  Is Exact Location Cleansed             66833 non-null  bool    \n",
      " 29  Destance From Center Grouped Cleansed  66387 non-null  category\n",
      " 30  Host Since Year Cleansed               66833 non-null  int32   \n",
      "dtypes: bool(3), category(2), float64(11), int32(1), int64(8), object(6)\n",
      "memory usage: 13.3+ MB\n"
     ]
    }
   ]
  }
 ],
 "metadata": {
  "kernelspec": {
   "display_name": "Python 3",
   "language": "python",
   "name": "python3"
  },
  "language_info": {
   "codemirror_mode": {
    "name": "ipython",
    "version": 2
   },
   "file_extension": ".py",
   "mimetype": "text/x-python",
   "name": "python",
   "nbconvert_exporter": "python",
   "pygments_lexer": "ipython2",
   "version": "2.7.6"
  },
  "colab": {
   "provenance": []
  }
 },
 "nbformat": 4,
 "nbformat_minor": 5
}
