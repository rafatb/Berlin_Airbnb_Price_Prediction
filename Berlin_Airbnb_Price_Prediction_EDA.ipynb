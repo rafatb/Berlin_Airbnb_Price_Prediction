{
  "nbformat": 4,
  "nbformat_minor": 0,
  "metadata": {
    "colab": {
      "provenance": [],
      "authorship_tag": "ABX9TyOBiJtQ+vr7uWOY5Ft3yZGE",
      "include_colab_link": true
    },
    "kernelspec": {
      "name": "python3",
      "display_name": "Python 3"
    },
    "language_info": {
      "name": "python"
    }
  },
  "cells": [
    {
      "cell_type": "markdown",
      "metadata": {
        "id": "view-in-github",
        "colab_type": "text"
      },
      "source": [
        "<a href=\"https://colab.research.google.com/github/rafatb/Berlin_Airbnb_Price_Prediction/blob/main/Berlin_Airbnb_Price_Prediction_EDA.ipynb\" target=\"_parent\"><img src=\"https://colab.research.google.com/assets/colab-badge.svg\" alt=\"Open In Colab\"/></a>"
      ]
    },
    {
      "cell_type": "code",
      "execution_count": 1,
      "metadata": {
        "id": "pW6-t9xa_6gv",
        "colab": {
          "base_uri": "https://localhost:8080/"
        },
        "outputId": "ecc80f00-3423-4449-9744-233de35ca42e"
      },
      "outputs": [
        {
          "output_type": "stream",
          "name": "stdout",
          "text": [
            "Mounted at /content/drive\n"
          ]
        }
      ],
      "source": [
        "from google.colab import drive\n",
        "drive.mount('/content/drive')"
      ]
    },
    {
      "cell_type": "code",
      "source": [
        "!pip install missingno\n",
        "!pip install autoviz\n",
        "!pip install geopy\n",
        "!pip install scipy\n",
        "!pandas_profiling\n",
        "!pip install statsmodels\n",
        "!pip install pyodbc\n",
        "!pip install seaborn\n",
        "!pip install nltk\n"
      ],
      "metadata": {
        "id": "GQXCa-OLXhHq"
      },
      "execution_count": null,
      "outputs": []
    },
    {
      "cell_type": "code",
      "source": [
        "import numpy as np\n",
        "import os\n",
        "import pandas as pd\n",
        "#from pandas_profiling import ProfileReport\n",
        "%matplotlib inline\n",
        "import matplotlib as mpl\n",
        "import matplotlib.pyplot as plt\n",
        "from sklearn import ensemble, tree, linear_model\n",
        "from sklearn import tree\n",
        "from sklearn.metrics import accuracy_score\n",
        "from sklearn.experimental import enable_iterative_imputer\n",
        "from sklearn.impute import IterativeImputer\n",
        "from sklearn.impute import KNNImputer\n",
        "from scipy.stats import pearsonr\n",
        "import pyodbc\n",
        "import seaborn as sns\n",
        "sns.set()\n",
        "plt.style.use('ggplot')\n",
        "import re\n",
        "from scipy import stats\n",
        "from scipy.stats import chisquare\n",
        "from scipy.stats import chi2_contingency\n",
        "from scipy.stats import f_oneway\n",
        "import statsmodels.api as sm\n",
        "import statsmodels.formula.api as smf\n",
        "from scipy.stats import ks_2samp\n",
        "from scipy.stats import norm\n",
        "import missingno as msno\n",
        "import warnings\n",
        "import datetime\n",
        "warnings.filterwarnings(\"ignore\")\n",
        "pd.set_option('display.max_columns', None)\n",
        "import nltk"
      ],
      "metadata": {
        "id": "a6X4qDIQ7r-N"
      },
      "execution_count": 6,
      "outputs": []
    },
    {
      "cell_type": "code",
      "source": [
        "df = pd.read_pickle('/content/drive/MyDrive/kaggle/berline/ready_for_eda.pkl')\n",
        "df.info()"
      ],
      "metadata": {
        "id": "wmO8XfjwIRoK",
        "colab": {
          "base_uri": "https://localhost:8080/"
        },
        "outputId": "792b7559-7de1-4111-ff72-88bc6b076fb0"
      },
      "execution_count": 50,
      "outputs": [
        {
          "output_type": "stream",
          "name": "stdout",
          "text": [
            "<class 'pandas.core.frame.DataFrame'>\n",
            "RangeIndex: 23536 entries, 0 to 23535\n",
            "Data columns (total 35 columns):\n",
            " #   Column                          Non-Null Count  Dtype         \n",
            "---  ------                          --------------  -----         \n",
            " 0   Listing ID                      23536 non-null  int64         \n",
            " 1   Overall Rating                  18914 non-null  float64       \n",
            " 2   Accuracy Rating                 18888 non-null  float64       \n",
            " 3   Cleanliness Rating              18892 non-null  float64       \n",
            " 4   Checkin Rating                  18870 non-null  float64       \n",
            " 5   Communication Rating            18886 non-null  float64       \n",
            " 6   Location Rating                 18871 non-null  float64       \n",
            " 7   Value Rating                    18868 non-null  float64       \n",
            " 8   Price                           23536 non-null  float64       \n",
            " 9   Square Feet                     425 non-null    float64       \n",
            " 10  Reviews                         23536 non-null  int64         \n",
            " 11  review_date                     19380 non-null  datetime64[ns]\n",
            " 12  Bedrooms                        23516 non-null  float64       \n",
            " 13  Beds                            23501 non-null  float64       \n",
            " 14  Bathrooms                       23507 non-null  float64       \n",
            " 15  Host Response Rate              13046 non-null  float64       \n",
            " 16  Is Superhost                    23536 non-null  bool          \n",
            " 17  Latitude                        23536 non-null  float64       \n",
            " 18  Longitude                       23536 non-null  float64       \n",
            " 19  Accomodates                     23536 non-null  int64         \n",
            " 20  Guests Included                 23536 non-null  int64         \n",
            " 21  Min Nights                      23536 non-null  int64         \n",
            " 22  Instant Bookable                23536 non-null  bool          \n",
            " 23  Host Since                      23515 non-null  object        \n",
            " 24  Is Exact Location               23536 non-null  bool          \n",
            " 25  Postal Code                     23536 non-null  object        \n",
            " 26  Property Type                   23536 non-null  object        \n",
            " 27  Host Response Time              13046 non-null  object        \n",
            " 28  Neighborhood Group              23536 non-null  object        \n",
            " 29  neighbourhood                   23536 non-null  object        \n",
            " 30  Room Type                       23536 non-null  object        \n",
            " 31  Host Response Rate Cleansed     13046 non-null  category      \n",
            " 32  Overall Rating Cleansed         18914 non-null  float64       \n",
            " 33  Neighbourhood Grouped Cleansed  23536 non-null  object        \n",
            " 34  Property Type Cleansed          23536 non-null  object        \n",
            "dtypes: bool(3), category(1), datetime64[ns](1), float64(16), int64(5), object(9)\n",
            "memory usage: 5.7+ MB\n"
          ]
        }
      ]
    },
    {
      "cell_type": "code",
      "source": [
        "df.shape"
      ],
      "metadata": {
        "colab": {
          "base_uri": "https://localhost:8080/"
        },
        "id": "VuqNlu6g9GoS",
        "outputId": "4914d8c2-f407-4f26-fff3-9527d7ab5f0f"
      },
      "execution_count": 10,
      "outputs": [
        {
          "output_type": "execute_result",
          "data": {
            "text/plain": [
              "(23536, 35)"
            ]
          },
          "metadata": {},
          "execution_count": 10
        }
      ]
    },
    {
      "cell_type": "markdown",
      "source": [
        "#Data Protocol\n",
        "###Exporting results to the protocol"
      ],
      "metadata": {
        "id": "jEREf3iO9ibV"
      }
    },
    {
      "cell_type": "code",
      "source": [
        "# Type of valaues\n",
        "df.dtypes.to_excel(\"berline_datatype.xlsx\",\n",
        "             sheet_name='data_type')\n",
        "# Maximum valaues\n",
        "df.select_dtypes(include=['float','int','category']).max().to_excel(\"max_berline.xlsx\",\n",
        "             sheet_name='max')\n",
        "# Minimum Values\n",
        "df.select_dtypes(include=['float','int','category']).min().to_excel(\"min_berline.xlsx\",\n",
        "             sheet_name='min')\n",
        "# Missing Values\n",
        "df.isnull().sum(axis=0).to_excel(\"NA_berline.xlsx\",\n",
        "             sheet_name='NA')\n",
        "# exporting results to the protocol\n",
        "df.nunique().to_excel(\"unique_berline.xlsx\",\n",
        "             sheet_name='unique')"
      ],
      "metadata": {
        "id": "rnG0j83Q9OHp"
      },
      "execution_count": 40,
      "outputs": []
    },
    {
      "cell_type": "markdown",
      "source": [
        "#Transform data"
      ],
      "metadata": {
        "id": "Ui00AE2uVkdt"
      }
    },
    {
      "cell_type": "code",
      "source": [
        "df['year'] = df['review_date'].dt.year\n",
        "df['month'] = df['review_date'].dt.month\n",
        "df['day'] = df['review_date'].dt.day\n",
        "df.drop(columns=['review_date'], inplace=True)"
      ],
      "metadata": {
        "id": "ToLphPrTViBz"
      },
      "execution_count": 51,
      "outputs": []
    },
    {
      "cell_type": "markdown",
      "source": [
        "### move out non relevant data for the"
      ],
      "metadata": {
        "id": "QP38FoLwWd10"
      }
    },
    {
      "cell_type": "code",
      "source": [
        "#get dummies\n",
        "df_dummy = df[[col for col in df if np.isin(df[col].dropna().unique(), [0, 1]).all()]]\n",
        "df_dummy.shape"
      ],
      "metadata": {
        "colab": {
          "base_uri": "https://localhost:8080/"
        },
        "id": "ybCUQgsi_08J",
        "outputId": "493e0d4d-aa72-4bb9-c61d-54943b0b1874"
      },
      "execution_count": 52,
      "outputs": [
        {
          "output_type": "execute_result",
          "data": {
            "text/plain": [
              "(23536, 3)"
            ]
          },
          "metadata": {},
          "execution_count": 52
        }
      ]
    },
    {
      "cell_type": "code",
      "source": [
        "#get all numeric data\n",
        "cols = df.columns\n",
        "df_num = df._get_numeric_data().columns.dropna().unique()\n",
        "df_num"
      ],
      "metadata": {
        "colab": {
          "base_uri": "https://localhost:8080/"
        },
        "id": "R6C6ZlnFAB4P",
        "outputId": "dd88c3d3-6fae-45ce-ffbf-e69f867e3fff"
      },
      "execution_count": 53,
      "outputs": [
        {
          "output_type": "execute_result",
          "data": {
            "text/plain": [
              "Index(['Listing ID', 'Overall Rating', 'Accuracy Rating', 'Cleanliness Rating',\n",
              "       'Checkin Rating', 'Communication Rating', 'Location Rating',\n",
              "       'Value Rating', 'Price', 'Square Feet', 'Reviews', 'Bedrooms', 'Beds',\n",
              "       'Bathrooms', 'Host Response Rate', 'Is Superhost', 'Latitude',\n",
              "       'Longitude', 'Accomodates', 'Guests Included', 'Min Nights',\n",
              "       'Instant Bookable', 'Is Exact Location', 'Overall Rating Cleansed',\n",
              "       'year', 'month', 'day'],\n",
              "      dtype='object')"
            ]
          },
          "metadata": {},
          "execution_count": 53
        }
      ]
    },
    {
      "cell_type": "code",
      "source": [
        "pd.set_option('display.max_columns', None)\n",
        "df_num_non_dummy = df[list(set(df_num)-set(df_dummy.columns))]\n",
        "df_num_non_dummy.drop(['Listing ID'], axis=1, inplace=True)\n",
        "# df_num_non_dummy.shape"
      ],
      "metadata": {
        "id": "V0xN0eR6AlyN"
      },
      "execution_count": 54,
      "outputs": []
    },
    {
      "cell_type": "code",
      "source": [
        "#get categorial data\n",
        "df_categorial=df[list(set(cols) - set(df_num))]\n",
        "df_categorial.head(100)"
      ],
      "metadata": {
        "colab": {
          "base_uri": "https://localhost:8080/",
          "height": 563
        },
        "id": "RKbYnVbFUl-4",
        "outputId": "0806980f-afc7-4bdd-9d7d-b4fd0da12666"
      },
      "execution_count": 55,
      "outputs": [
        {
          "output_type": "execute_result",
          "data": {
            "text/plain": [
              "   Host Response Rate Cleansed Property Type Cleansed        Room Type  \\\n",
              "0                 Low Response              Apartment     Private room   \n",
              "1                 Low Response              Apartment  Entire home/apt   \n",
              "2           Very High Response              Apartment     Private room   \n",
              "3           Very High Response              Apartment  Entire home/apt   \n",
              "4           Very High Response              Apartment  Entire home/apt   \n",
              "..                         ...                    ...              ...   \n",
              "95                         NaN              Apartment  Entire home/apt   \n",
              "96          Very High Response              Apartment  Entire home/apt   \n",
              "97           Moderate Response              Apartment  Entire home/apt   \n",
              "98          Very High Response              Apartment     Private room   \n",
              "99          Very High Response     Serviced apartment  Entire home/apt   \n",
              "\n",
              "   Neighbourhood Grouped Cleansed  Host Response Time    neighbourhood  \\\n",
              "0                          Pankow        within a day  Prenzlauer Berg   \n",
              "1                          Pankow        within a day  Prenzlauer Berg   \n",
              "2                          Pankow      within an hour  Prenzlauer Berg   \n",
              "3                          Pankow        within a day  Prenzlauer Berg   \n",
              "4                          Pankow        within a day  Prenzlauer Berg   \n",
              "..                            ...                 ...              ...   \n",
              "95                         Pankow                None  Prenzlauer Berg   \n",
              "96                          Mitte        within a day            Mitte   \n",
              "97       Friedrichshain-Kreuzberg        within a day        Kreuzberg   \n",
              "98                          Mitte  within a few hours           Moabit   \n",
              "99           Charlottenburg-Wilm.  within a few hours      Wilmersdorf   \n",
              "\n",
              "          Neighborhood Group Postal Code Host Since       Property Type  \n",
              "0                     Pankow       10437   09-16-08           Apartment  \n",
              "1                     Pankow       10405   10-19-08           Apartment  \n",
              "2                     Pankow       10437   05-16-09           Apartment  \n",
              "3                     Pankow       10405   08-25-09           Apartment  \n",
              "4                     Pankow       10437   11-18-09           Apartment  \n",
              "..                       ...         ...        ...                 ...  \n",
              "95                    Pankow       10409   06-26-11           Apartment  \n",
              "96                     Mitte       10179   06-27-11           Apartment  \n",
              "97  Friedrichshain-Kreuzberg       10999   12-06-10           Apartment  \n",
              "98                     Mitte       10551   06-06-11           Apartment  \n",
              "99      Charlottenburg-Wilm.       14197   04-11-11  Serviced apartment  \n",
              "\n",
              "[100 rows x 10 columns]"
            ],
            "text/html": [
              "\n",
              "  <div id=\"df-db351999-8af0-4414-bfe7-1bad8c06fe54\" class=\"colab-df-container\">\n",
              "    <div>\n",
              "<style scoped>\n",
              "    .dataframe tbody tr th:only-of-type {\n",
              "        vertical-align: middle;\n",
              "    }\n",
              "\n",
              "    .dataframe tbody tr th {\n",
              "        vertical-align: top;\n",
              "    }\n",
              "\n",
              "    .dataframe thead th {\n",
              "        text-align: right;\n",
              "    }\n",
              "</style>\n",
              "<table border=\"1\" class=\"dataframe\">\n",
              "  <thead>\n",
              "    <tr style=\"text-align: right;\">\n",
              "      <th></th>\n",
              "      <th>Host Response Rate Cleansed</th>\n",
              "      <th>Property Type Cleansed</th>\n",
              "      <th>Room Type</th>\n",
              "      <th>Neighbourhood Grouped Cleansed</th>\n",
              "      <th>Host Response Time</th>\n",
              "      <th>neighbourhood</th>\n",
              "      <th>Neighborhood Group</th>\n",
              "      <th>Postal Code</th>\n",
              "      <th>Host Since</th>\n",
              "      <th>Property Type</th>\n",
              "    </tr>\n",
              "  </thead>\n",
              "  <tbody>\n",
              "    <tr>\n",
              "      <th>0</th>\n",
              "      <td>Low Response</td>\n",
              "      <td>Apartment</td>\n",
              "      <td>Private room</td>\n",
              "      <td>Pankow</td>\n",
              "      <td>within a day</td>\n",
              "      <td>Prenzlauer Berg</td>\n",
              "      <td>Pankow</td>\n",
              "      <td>10437</td>\n",
              "      <td>09-16-08</td>\n",
              "      <td>Apartment</td>\n",
              "    </tr>\n",
              "    <tr>\n",
              "      <th>1</th>\n",
              "      <td>Low Response</td>\n",
              "      <td>Apartment</td>\n",
              "      <td>Entire home/apt</td>\n",
              "      <td>Pankow</td>\n",
              "      <td>within a day</td>\n",
              "      <td>Prenzlauer Berg</td>\n",
              "      <td>Pankow</td>\n",
              "      <td>10405</td>\n",
              "      <td>10-19-08</td>\n",
              "      <td>Apartment</td>\n",
              "    </tr>\n",
              "    <tr>\n",
              "      <th>2</th>\n",
              "      <td>Very High Response</td>\n",
              "      <td>Apartment</td>\n",
              "      <td>Private room</td>\n",
              "      <td>Pankow</td>\n",
              "      <td>within an hour</td>\n",
              "      <td>Prenzlauer Berg</td>\n",
              "      <td>Pankow</td>\n",
              "      <td>10437</td>\n",
              "      <td>05-16-09</td>\n",
              "      <td>Apartment</td>\n",
              "    </tr>\n",
              "    <tr>\n",
              "      <th>3</th>\n",
              "      <td>Very High Response</td>\n",
              "      <td>Apartment</td>\n",
              "      <td>Entire home/apt</td>\n",
              "      <td>Pankow</td>\n",
              "      <td>within a day</td>\n",
              "      <td>Prenzlauer Berg</td>\n",
              "      <td>Pankow</td>\n",
              "      <td>10405</td>\n",
              "      <td>08-25-09</td>\n",
              "      <td>Apartment</td>\n",
              "    </tr>\n",
              "    <tr>\n",
              "      <th>4</th>\n",
              "      <td>Very High Response</td>\n",
              "      <td>Apartment</td>\n",
              "      <td>Entire home/apt</td>\n",
              "      <td>Pankow</td>\n",
              "      <td>within a day</td>\n",
              "      <td>Prenzlauer Berg</td>\n",
              "      <td>Pankow</td>\n",
              "      <td>10437</td>\n",
              "      <td>11-18-09</td>\n",
              "      <td>Apartment</td>\n",
              "    </tr>\n",
              "    <tr>\n",
              "      <th>...</th>\n",
              "      <td>...</td>\n",
              "      <td>...</td>\n",
              "      <td>...</td>\n",
              "      <td>...</td>\n",
              "      <td>...</td>\n",
              "      <td>...</td>\n",
              "      <td>...</td>\n",
              "      <td>...</td>\n",
              "      <td>...</td>\n",
              "      <td>...</td>\n",
              "    </tr>\n",
              "    <tr>\n",
              "      <th>95</th>\n",
              "      <td>NaN</td>\n",
              "      <td>Apartment</td>\n",
              "      <td>Entire home/apt</td>\n",
              "      <td>Pankow</td>\n",
              "      <td>None</td>\n",
              "      <td>Prenzlauer Berg</td>\n",
              "      <td>Pankow</td>\n",
              "      <td>10409</td>\n",
              "      <td>06-26-11</td>\n",
              "      <td>Apartment</td>\n",
              "    </tr>\n",
              "    <tr>\n",
              "      <th>96</th>\n",
              "      <td>Very High Response</td>\n",
              "      <td>Apartment</td>\n",
              "      <td>Entire home/apt</td>\n",
              "      <td>Mitte</td>\n",
              "      <td>within a day</td>\n",
              "      <td>Mitte</td>\n",
              "      <td>Mitte</td>\n",
              "      <td>10179</td>\n",
              "      <td>06-27-11</td>\n",
              "      <td>Apartment</td>\n",
              "    </tr>\n",
              "    <tr>\n",
              "      <th>97</th>\n",
              "      <td>Moderate Response</td>\n",
              "      <td>Apartment</td>\n",
              "      <td>Entire home/apt</td>\n",
              "      <td>Friedrichshain-Kreuzberg</td>\n",
              "      <td>within a day</td>\n",
              "      <td>Kreuzberg</td>\n",
              "      <td>Friedrichshain-Kreuzberg</td>\n",
              "      <td>10999</td>\n",
              "      <td>12-06-10</td>\n",
              "      <td>Apartment</td>\n",
              "    </tr>\n",
              "    <tr>\n",
              "      <th>98</th>\n",
              "      <td>Very High Response</td>\n",
              "      <td>Apartment</td>\n",
              "      <td>Private room</td>\n",
              "      <td>Mitte</td>\n",
              "      <td>within a few hours</td>\n",
              "      <td>Moabit</td>\n",
              "      <td>Mitte</td>\n",
              "      <td>10551</td>\n",
              "      <td>06-06-11</td>\n",
              "      <td>Apartment</td>\n",
              "    </tr>\n",
              "    <tr>\n",
              "      <th>99</th>\n",
              "      <td>Very High Response</td>\n",
              "      <td>Serviced apartment</td>\n",
              "      <td>Entire home/apt</td>\n",
              "      <td>Charlottenburg-Wilm.</td>\n",
              "      <td>within a few hours</td>\n",
              "      <td>Wilmersdorf</td>\n",
              "      <td>Charlottenburg-Wilm.</td>\n",
              "      <td>14197</td>\n",
              "      <td>04-11-11</td>\n",
              "      <td>Serviced apartment</td>\n",
              "    </tr>\n",
              "  </tbody>\n",
              "</table>\n",
              "<p>100 rows × 10 columns</p>\n",
              "</div>\n",
              "    <div class=\"colab-df-buttons\">\n",
              "\n",
              "  <div class=\"colab-df-container\">\n",
              "    <button class=\"colab-df-convert\" onclick=\"convertToInteractive('df-db351999-8af0-4414-bfe7-1bad8c06fe54')\"\n",
              "            title=\"Convert this dataframe to an interactive table.\"\n",
              "            style=\"display:none;\">\n",
              "\n",
              "  <svg xmlns=\"http://www.w3.org/2000/svg\" height=\"24px\" viewBox=\"0 -960 960 960\">\n",
              "    <path d=\"M120-120v-720h720v720H120Zm60-500h600v-160H180v160Zm220 220h160v-160H400v160Zm0 220h160v-160H400v160ZM180-400h160v-160H180v160Zm440 0h160v-160H620v160ZM180-180h160v-160H180v160Zm440 0h160v-160H620v160Z\"/>\n",
              "  </svg>\n",
              "    </button>\n",
              "\n",
              "  <style>\n",
              "    .colab-df-container {\n",
              "      display:flex;\n",
              "      gap: 12px;\n",
              "    }\n",
              "\n",
              "    .colab-df-convert {\n",
              "      background-color: #E8F0FE;\n",
              "      border: none;\n",
              "      border-radius: 50%;\n",
              "      cursor: pointer;\n",
              "      display: none;\n",
              "      fill: #1967D2;\n",
              "      height: 32px;\n",
              "      padding: 0 0 0 0;\n",
              "      width: 32px;\n",
              "    }\n",
              "\n",
              "    .colab-df-convert:hover {\n",
              "      background-color: #E2EBFA;\n",
              "      box-shadow: 0px 1px 2px rgba(60, 64, 67, 0.3), 0px 1px 3px 1px rgba(60, 64, 67, 0.15);\n",
              "      fill: #174EA6;\n",
              "    }\n",
              "\n",
              "    .colab-df-buttons div {\n",
              "      margin-bottom: 4px;\n",
              "    }\n",
              "\n",
              "    [theme=dark] .colab-df-convert {\n",
              "      background-color: #3B4455;\n",
              "      fill: #D2E3FC;\n",
              "    }\n",
              "\n",
              "    [theme=dark] .colab-df-convert:hover {\n",
              "      background-color: #434B5C;\n",
              "      box-shadow: 0px 1px 3px 1px rgba(0, 0, 0, 0.15);\n",
              "      filter: drop-shadow(0px 1px 2px rgba(0, 0, 0, 0.3));\n",
              "      fill: #FFFFFF;\n",
              "    }\n",
              "  </style>\n",
              "\n",
              "    <script>\n",
              "      const buttonEl =\n",
              "        document.querySelector('#df-db351999-8af0-4414-bfe7-1bad8c06fe54 button.colab-df-convert');\n",
              "      buttonEl.style.display =\n",
              "        google.colab.kernel.accessAllowed ? 'block' : 'none';\n",
              "\n",
              "      async function convertToInteractive(key) {\n",
              "        const element = document.querySelector('#df-db351999-8af0-4414-bfe7-1bad8c06fe54');\n",
              "        const dataTable =\n",
              "          await google.colab.kernel.invokeFunction('convertToInteractive',\n",
              "                                                    [key], {});\n",
              "        if (!dataTable) return;\n",
              "\n",
              "        const docLinkHtml = 'Like what you see? Visit the ' +\n",
              "          '<a target=\"_blank\" href=https://colab.research.google.com/notebooks/data_table.ipynb>data table notebook</a>'\n",
              "          + ' to learn more about interactive tables.';\n",
              "        element.innerHTML = '';\n",
              "        dataTable['output_type'] = 'display_data';\n",
              "        await google.colab.output.renderOutput(dataTable, element);\n",
              "        const docLink = document.createElement('div');\n",
              "        docLink.innerHTML = docLinkHtml;\n",
              "        element.appendChild(docLink);\n",
              "      }\n",
              "    </script>\n",
              "  </div>\n",
              "\n",
              "\n",
              "<div id=\"df-808cad4e-88c1-4fe7-b3aa-4eadbdd2cb6d\">\n",
              "  <button class=\"colab-df-quickchart\" onclick=\"quickchart('df-808cad4e-88c1-4fe7-b3aa-4eadbdd2cb6d')\"\n",
              "            title=\"Suggest charts\"\n",
              "            style=\"display:none;\">\n",
              "\n",
              "<svg xmlns=\"http://www.w3.org/2000/svg\" height=\"24px\"viewBox=\"0 0 24 24\"\n",
              "     width=\"24px\">\n",
              "    <g>\n",
              "        <path d=\"M19 3H5c-1.1 0-2 .9-2 2v14c0 1.1.9 2 2 2h14c1.1 0 2-.9 2-2V5c0-1.1-.9-2-2-2zM9 17H7v-7h2v7zm4 0h-2V7h2v10zm4 0h-2v-4h2v4z\"/>\n",
              "    </g>\n",
              "</svg>\n",
              "  </button>\n",
              "\n",
              "<style>\n",
              "  .colab-df-quickchart {\n",
              "      --bg-color: #E8F0FE;\n",
              "      --fill-color: #1967D2;\n",
              "      --hover-bg-color: #E2EBFA;\n",
              "      --hover-fill-color: #174EA6;\n",
              "      --disabled-fill-color: #AAA;\n",
              "      --disabled-bg-color: #DDD;\n",
              "  }\n",
              "\n",
              "  [theme=dark] .colab-df-quickchart {\n",
              "      --bg-color: #3B4455;\n",
              "      --fill-color: #D2E3FC;\n",
              "      --hover-bg-color: #434B5C;\n",
              "      --hover-fill-color: #FFFFFF;\n",
              "      --disabled-bg-color: #3B4455;\n",
              "      --disabled-fill-color: #666;\n",
              "  }\n",
              "\n",
              "  .colab-df-quickchart {\n",
              "    background-color: var(--bg-color);\n",
              "    border: none;\n",
              "    border-radius: 50%;\n",
              "    cursor: pointer;\n",
              "    display: none;\n",
              "    fill: var(--fill-color);\n",
              "    height: 32px;\n",
              "    padding: 0;\n",
              "    width: 32px;\n",
              "  }\n",
              "\n",
              "  .colab-df-quickchart:hover {\n",
              "    background-color: var(--hover-bg-color);\n",
              "    box-shadow: 0 1px 2px rgba(60, 64, 67, 0.3), 0 1px 3px 1px rgba(60, 64, 67, 0.15);\n",
              "    fill: var(--button-hover-fill-color);\n",
              "  }\n",
              "\n",
              "  .colab-df-quickchart-complete:disabled,\n",
              "  .colab-df-quickchart-complete:disabled:hover {\n",
              "    background-color: var(--disabled-bg-color);\n",
              "    fill: var(--disabled-fill-color);\n",
              "    box-shadow: none;\n",
              "  }\n",
              "\n",
              "  .colab-df-spinner {\n",
              "    border: 2px solid var(--fill-color);\n",
              "    border-color: transparent;\n",
              "    border-bottom-color: var(--fill-color);\n",
              "    animation:\n",
              "      spin 1s steps(1) infinite;\n",
              "  }\n",
              "\n",
              "  @keyframes spin {\n",
              "    0% {\n",
              "      border-color: transparent;\n",
              "      border-bottom-color: var(--fill-color);\n",
              "      border-left-color: var(--fill-color);\n",
              "    }\n",
              "    20% {\n",
              "      border-color: transparent;\n",
              "      border-left-color: var(--fill-color);\n",
              "      border-top-color: var(--fill-color);\n",
              "    }\n",
              "    30% {\n",
              "      border-color: transparent;\n",
              "      border-left-color: var(--fill-color);\n",
              "      border-top-color: var(--fill-color);\n",
              "      border-right-color: var(--fill-color);\n",
              "    }\n",
              "    40% {\n",
              "      border-color: transparent;\n",
              "      border-right-color: var(--fill-color);\n",
              "      border-top-color: var(--fill-color);\n",
              "    }\n",
              "    60% {\n",
              "      border-color: transparent;\n",
              "      border-right-color: var(--fill-color);\n",
              "    }\n",
              "    80% {\n",
              "      border-color: transparent;\n",
              "      border-right-color: var(--fill-color);\n",
              "      border-bottom-color: var(--fill-color);\n",
              "    }\n",
              "    90% {\n",
              "      border-color: transparent;\n",
              "      border-bottom-color: var(--fill-color);\n",
              "    }\n",
              "  }\n",
              "</style>\n",
              "\n",
              "  <script>\n",
              "    async function quickchart(key) {\n",
              "      const quickchartButtonEl =\n",
              "        document.querySelector('#' + key + ' button');\n",
              "      quickchartButtonEl.disabled = true;  // To prevent multiple clicks.\n",
              "      quickchartButtonEl.classList.add('colab-df-spinner');\n",
              "      try {\n",
              "        const charts = await google.colab.kernel.invokeFunction(\n",
              "            'suggestCharts', [key], {});\n",
              "      } catch (error) {\n",
              "        console.error('Error during call to suggestCharts:', error);\n",
              "      }\n",
              "      quickchartButtonEl.classList.remove('colab-df-spinner');\n",
              "      quickchartButtonEl.classList.add('colab-df-quickchart-complete');\n",
              "    }\n",
              "    (() => {\n",
              "      let quickchartButtonEl =\n",
              "        document.querySelector('#df-808cad4e-88c1-4fe7-b3aa-4eadbdd2cb6d button');\n",
              "      quickchartButtonEl.style.display =\n",
              "        google.colab.kernel.accessAllowed ? 'block' : 'none';\n",
              "    })();\n",
              "  </script>\n",
              "</div>\n",
              "\n",
              "    </div>\n",
              "  </div>\n"
            ],
            "application/vnd.google.colaboratory.intrinsic+json": {
              "type": "dataframe",
              "variable_name": "df_categorial",
              "summary": "{\n  \"name\": \"df_categorial\",\n  \"rows\": 23536,\n  \"fields\": [\n    {\n      \"column\": \"Host Response Rate Cleansed\",\n      \"properties\": {\n        \"dtype\": \"category\",\n        \"num_unique_values\": 4,\n        \"samples\": [\n          \"Very High Response\",\n          \"Moderate Response\",\n          \"Low Response\"\n        ],\n        \"semantic_type\": \"\",\n        \"description\": \"\"\n      }\n    },\n    {\n      \"column\": \"Property Type Cleansed\",\n      \"properties\": {\n        \"dtype\": \"category\",\n        \"num_unique_values\": 15,\n        \"samples\": [\n          \"Vacation Rental\",\n          \"Other\",\n          \"Apartment\"\n        ],\n        \"semantic_type\": \"\",\n        \"description\": \"\"\n      }\n    },\n    {\n      \"column\": \"Room Type\",\n      \"properties\": {\n        \"dtype\": \"category\",\n        \"num_unique_values\": 3,\n        \"samples\": [\n          \"Private room\",\n          \"Entire home/apt\",\n          \"Shared room\"\n        ],\n        \"semantic_type\": \"\",\n        \"description\": \"\"\n      }\n    },\n    {\n      \"column\": \"Neighbourhood Grouped Cleansed\",\n      \"properties\": {\n        \"dtype\": \"category\",\n        \"num_unique_values\": 12,\n        \"samples\": [\n          \"Marzahn - Hellersdorf\",\n          \"Lichtenberg\",\n          \"Pankow\"\n        ],\n        \"semantic_type\": \"\",\n        \"description\": \"\"\n      }\n    },\n    {\n      \"column\": \"Host Response Time\",\n      \"properties\": {\n        \"dtype\": \"category\",\n        \"num_unique_values\": 4,\n        \"samples\": [\n          \"within an hour\",\n          \"a few days or more\",\n          \"within a day\"\n        ],\n        \"semantic_type\": \"\",\n        \"description\": \"\"\n      }\n    },\n    {\n      \"column\": \"neighbourhood\",\n      \"properties\": {\n        \"dtype\": \"category\",\n        \"num_unique_values\": 93,\n        \"samples\": [\n          \"Wilhelmstadt\",\n          \"Buckow\",\n          \"Gropiusstadt\"\n        ],\n        \"semantic_type\": \"\",\n        \"description\": \"\"\n      }\n    },\n    {\n      \"column\": \"Neighborhood Group\",\n      \"properties\": {\n        \"dtype\": \"category\",\n        \"num_unique_values\": 12,\n        \"samples\": [\n          \"Marzahn - Hellersdorf\",\n          \"Lichtenberg\",\n          \"Pankow\"\n        ],\n        \"semantic_type\": \"\",\n        \"description\": \"\"\n      }\n    },\n    {\n      \"column\": \"Postal Code\",\n      \"properties\": {\n        \"dtype\": \"category\",\n        \"num_unique_values\": 207,\n        \"samples\": [\n          \"12349\",\n          \"12435\",\n          \"12307\"\n        ],\n        \"semantic_type\": \"\",\n        \"description\": \"\"\n      }\n    },\n    {\n      \"column\": \"Host Since\",\n      \"properties\": {\n        \"dtype\": \"object\",\n        \"num_unique_values\": 3085,\n        \"samples\": [\n          \"07-24-15\",\n          \"08-27-17\",\n          \"03-20-16\"\n        ],\n        \"semantic_type\": \"\",\n        \"description\": \"\"\n      }\n    },\n    {\n      \"column\": \"Property Type\",\n      \"properties\": {\n        \"dtype\": \"category\",\n        \"num_unique_values\": 35,\n        \"samples\": [\n          \"Resort\",\n          \"Train\",\n          \"Tipi\"\n        ],\n        \"semantic_type\": \"\",\n        \"description\": \"\"\n      }\n    }\n  ]\n}"
            }
          },
          "metadata": {},
          "execution_count": 55
        }
      ]
    },
    {
      "cell_type": "code",
      "source": [
        "df_categorial['Is Superhostxxx'] = df_categorial['Is Superhost'].replace({'t': True, 'f': False})\n",
        "df_categorial['Is Superhostxxx']"
      ],
      "metadata": {
        "colab": {
          "base_uri": "https://localhost:8080/",
          "height": 458
        },
        "id": "P4fG-rh5hgy7",
        "outputId": "74b402c2-4e39-4e9f-966f-8acaa6ea53f0"
      },
      "execution_count": 48,
      "outputs": [
        {
          "output_type": "execute_result",
          "data": {
            "text/plain": [
              "0        False\n",
              "1        False\n",
              "2         True\n",
              "3        False\n",
              "4        False\n",
              "         ...  \n",
              "23531    False\n",
              "23532    False\n",
              "23533    False\n",
              "23534    False\n",
              "23535    False\n",
              "Name: Is Superhostxxx, Length: 23536, dtype: object"
            ],
            "text/html": [
              "<div>\n",
              "<style scoped>\n",
              "    .dataframe tbody tr th:only-of-type {\n",
              "        vertical-align: middle;\n",
              "    }\n",
              "\n",
              "    .dataframe tbody tr th {\n",
              "        vertical-align: top;\n",
              "    }\n",
              "\n",
              "    .dataframe thead th {\n",
              "        text-align: right;\n",
              "    }\n",
              "</style>\n",
              "<table border=\"1\" class=\"dataframe\">\n",
              "  <thead>\n",
              "    <tr style=\"text-align: right;\">\n",
              "      <th></th>\n",
              "      <th>Is Superhostxxx</th>\n",
              "    </tr>\n",
              "  </thead>\n",
              "  <tbody>\n",
              "    <tr>\n",
              "      <th>0</th>\n",
              "      <td>False</td>\n",
              "    </tr>\n",
              "    <tr>\n",
              "      <th>1</th>\n",
              "      <td>False</td>\n",
              "    </tr>\n",
              "    <tr>\n",
              "      <th>2</th>\n",
              "      <td>True</td>\n",
              "    </tr>\n",
              "    <tr>\n",
              "      <th>3</th>\n",
              "      <td>False</td>\n",
              "    </tr>\n",
              "    <tr>\n",
              "      <th>4</th>\n",
              "      <td>False</td>\n",
              "    </tr>\n",
              "    <tr>\n",
              "      <th>...</th>\n",
              "      <td>...</td>\n",
              "    </tr>\n",
              "    <tr>\n",
              "      <th>23531</th>\n",
              "      <td>False</td>\n",
              "    </tr>\n",
              "    <tr>\n",
              "      <th>23532</th>\n",
              "      <td>False</td>\n",
              "    </tr>\n",
              "    <tr>\n",
              "      <th>23533</th>\n",
              "      <td>False</td>\n",
              "    </tr>\n",
              "    <tr>\n",
              "      <th>23534</th>\n",
              "      <td>False</td>\n",
              "    </tr>\n",
              "    <tr>\n",
              "      <th>23535</th>\n",
              "      <td>False</td>\n",
              "    </tr>\n",
              "  </tbody>\n",
              "</table>\n",
              "<p>23536 rows × 1 columns</p>\n",
              "</div><br><label><b>dtype:</b> object</label>"
            ]
          },
          "metadata": {},
          "execution_count": 48
        }
      ]
    },
    {
      "cell_type": "code",
      "source": [],
      "metadata": {
        "id": "S_foVSaOBbzh"
      },
      "execution_count": null,
      "outputs": []
    },
    {
      "cell_type": "code",
      "source": [],
      "metadata": {
        "id": "n7ON1Ba6AS-E"
      },
      "execution_count": null,
      "outputs": []
    },
    {
      "cell_type": "code",
      "source": [
        "df_aggregated = df_aggregated[df_aggregated[\"Price\"] < 600]"
      ],
      "metadata": {
        "id": "SPXTRsQn62QL"
      },
      "execution_count": null,
      "outputs": []
    },
    {
      "cell_type": "code",
      "source": [
        "from autoviz.AutoViz_Class import AutoViz_Class\n",
        "import missingno as msno\n",
        "import matplotlib.pyplot as plt\n",
        "%matplotlib inline\n",
        "AV = AutoViz_Class()\n",
        "\n",
        "#AV = AutoViz()\n",
        "\n",
        "# Specify the dataset and target column\n",
        "# df_av = AV.AutoViz(\n",
        "#     filename=\"\",  # Leave empty if passing a DataFrame\n",
        "#     df=df_aggregated,  # Your Pandas DataFrame\n",
        "#     depVar=\"Price\",  # Specify the target column\n",
        "#     verbose=2\n",
        "# )\n",
        "\n",
        "AV.AutoViz(filename=\"\", sep=\",\", depVar=\"Price\", dfte=df_aggregated, max_cols_analyzed=10)\n"
      ],
      "metadata": {
        "id": "Av3aePBJ0l48"
      },
      "execution_count": null,
      "outputs": []
    },
    {
      "cell_type": "code",
      "source": [
        "# from geopy.distance import great_circle\n",
        "# def distance_to_mid(lat, lon):\n",
        "#     berlin_centre = (52.5027778, 13.404166666666667)\n",
        "#     accommodation = (lat, lon)\n",
        "#     return great_circle(berlin_centre, accommodation).km\n",
        "\n",
        "# df_aggregated['Distance From Center Cleansed'] = df_aggregated.apply(lambda row: round(distance_to_mid(row['Latitude'], row['Longitude']), 1), axis=1)\n",
        "# bins = [0, 0.5, 1, 2, 4, 8, 16]\n",
        "# labels = [\"Center\", \"Cercile1 \", \"Cercile2\", \"Cercile4\", \"Cercile8\", \"Cercile16\"]\n",
        "\n",
        "# # Apply pd.cut() to create a new binned column\n",
        "# df_aggregated[\"Distance From Center Grouped Cleansed\"] = pd.cut(df_aggregated[\"Distance From Center Cleansed\"], bins=bins, labels=labels, include_lowest=True)\n",
        "# # df_aggregated.drop(columns=[\"Distance From Center Cleansed\"], inplace=True)\n",
        "# # df_aggregated.drop(columns=[\"Latitude\",\"Longitude\"], inplace=True)\n"
      ],
      "metadata": {
        "id": "qmHQ4jwtXVcE"
      },
      "execution_count": null,
      "outputs": []
    }
  ]
}