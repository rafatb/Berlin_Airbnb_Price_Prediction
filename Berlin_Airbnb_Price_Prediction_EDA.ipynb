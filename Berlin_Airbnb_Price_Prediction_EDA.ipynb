{
  "nbformat": 4,
  "nbformat_minor": 0,
  "metadata": {
    "colab": {
      "provenance": [],
      "authorship_tag": "ABX9TyM7vRuzKhPHG/mh8ctZGFBp",
      "include_colab_link": true
    },
    "kernelspec": {
      "name": "python3",
      "display_name": "Python 3"
    },
    "language_info": {
      "name": "python"
    }
  },
  "cells": [
    {
      "cell_type": "markdown",
      "metadata": {
        "id": "view-in-github",
        "colab_type": "text"
      },
      "source": [
        "<a href=\"https://colab.research.google.com/github/rafatb/Berlin_Airbnb_Price_Prediction/blob/main/Berlin_Airbnb_Price_Prediction_EDA.ipynb\" target=\"_parent\"><img src=\"https://colab.research.google.com/assets/colab-badge.svg\" alt=\"Open In Colab\"/></a>"
      ]
    },
    {
      "cell_type": "code",
      "execution_count": null,
      "metadata": {
        "id": "pW6-t9xa_6gv"
      },
      "outputs": [],
      "source": [
        "from google.colab import drive\n",
        "drive.mount('/content/drive')"
      ]
    },
    {
      "cell_type": "code",
      "source": [
        "!pip install missingno\n",
        "!pip install autoviz"
      ],
      "metadata": {
        "id": "GQXCa-OLXhHq"
      },
      "execution_count": null,
      "outputs": []
    },
    {
      "cell_type": "code",
      "source": [
        "import seaborn as sns\n",
        "import matplotlib.pyplot as plt\n",
        "import pandas as pd\n",
        "import numpy as np\n",
        "import warnings\n",
        "\n",
        "df = pd.read_pickle('/content/drive/MyDrive/kaggle/berline/ready_for_eda.pkl')"
      ],
      "metadata": {
        "id": "wmO8XfjwIRoK"
      },
      "execution_count": null,
      "outputs": []
    },
    {
      "cell_type": "code",
      "source": [
        "df_aggregated = df_aggregated[df_aggregated[\"Price\"] < 600]"
      ],
      "metadata": {
        "id": "SPXTRsQn62QL"
      },
      "execution_count": null,
      "outputs": []
    },
    {
      "cell_type": "code",
      "source": [
        "from autoviz.AutoViz_Class import AutoViz_Class\n",
        "import missingno as msno\n",
        "import matplotlib.pyplot as plt\n",
        "%matplotlib inline\n",
        "AV = AutoViz_Class()\n",
        "\n",
        "#AV = AutoViz()\n",
        "\n",
        "# Specify the dataset and target column\n",
        "# df_av = AV.AutoViz(\n",
        "#     filename=\"\",  # Leave empty if passing a DataFrame\n",
        "#     df=df_aggregated,  # Your Pandas DataFrame\n",
        "#     depVar=\"Price\",  # Specify the target column\n",
        "#     verbose=2\n",
        "# )\n",
        "\n",
        "AV.AutoViz(filename=\"\", sep=\",\", depVar=\"Price\", dfte=df_aggregated, max_cols_analyzed=10)\n"
      ],
      "metadata": {
        "id": "Av3aePBJ0l48"
      },
      "execution_count": null,
      "outputs": []
    },
    {
      "cell_type": "code",
      "source": [
        "# from geopy.distance import great_circle\n",
        "# def distance_to_mid(lat, lon):\n",
        "#     berlin_centre = (52.5027778, 13.404166666666667)\n",
        "#     accommodation = (lat, lon)\n",
        "#     return great_circle(berlin_centre, accommodation).km\n",
        "\n",
        "# df_aggregated['Distance From Center Cleansed'] = df_aggregated.apply(lambda row: round(distance_to_mid(row['Latitude'], row['Longitude']), 1), axis=1)\n",
        "# bins = [0, 0.5, 1, 2, 4, 8, 16]\n",
        "# labels = [\"Center\", \"Cercile1 \", \"Cercile2\", \"Cercile4\", \"Cercile8\", \"Cercile16\"]\n",
        "\n",
        "# # Apply pd.cut() to create a new binned column\n",
        "# df_aggregated[\"Distance From Center Grouped Cleansed\"] = pd.cut(df_aggregated[\"Distance From Center Cleansed\"], bins=bins, labels=labels, include_lowest=True)\n",
        "# # df_aggregated.drop(columns=[\"Distance From Center Cleansed\"], inplace=True)\n",
        "# # df_aggregated.drop(columns=[\"Latitude\",\"Longitude\"], inplace=True)\n"
      ],
      "metadata": {
        "id": "qmHQ4jwtXVcE"
      },
      "execution_count": null,
      "outputs": []
    }
  ]
}