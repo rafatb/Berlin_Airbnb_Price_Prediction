{
  "cells": [
    {
      "metadata": {
        "id": "8a77807f92f26ee"
      },
      "cell_type": "markdown",
      "source": [
        "### Connect to google drive\n"
      ],
      "id": "8a77807f92f26ee"
    },
    {
      "cell_type": "code",
      "source": [
        "# from google.colab import drive\n",
        "# drive.mount('/content/drive')"
      ],
      "metadata": {
        "id": "yY2MTrkNd8ot"
      },
      "id": "yY2MTrkNd8ot",
      "execution_count": 21,
      "outputs": []
    },
    {
      "cell_type": "code",
      "source": [
        "# !pip install missingno\n",
        "# !pip install geopy"
      ],
      "metadata": {
        "id": "6YsdAhn1LKYb"
      },
      "id": "6YsdAhn1LKYb",
      "outputs": [],
      "execution_count": 22
    },
    {
      "cell_type": "markdown",
      "source": [
        "### read 2019 Berline Airbnb Dataset\n",
        "This file already contains only 2019 data , data reduced due to its extream size\n"
      ],
      "metadata": {
        "id": "0mThcLO7KkO6"
      },
      "id": "0mThcLO7KkO6"
    },
    {
      "metadata": {
        "ExecuteTime": {
          "end_time": "2025-02-28T11:26:49.262999Z",
          "start_time": "2025-02-28T11:26:48.946630Z"
        },
        "id": "fbc121e30a2defb3"
      },
      "cell_type": "code",
      "source": [
        "import seaborn as sns\n",
        "import matplotlib.pyplot as plt\n",
        "import pandas as pd\n",
        "import numpy as np\n",
        "import warnings\n",
        "\n",
        "# Ignore warnings\n",
        "warnings.filterwarnings('ignore')\n",
        "\n",
        "pd.set_option('display.max_columns', None)\n",
        "# pd.set_option('display.max_rows', 500)\n",
        "\n",
        "df = pd.read_csv('/content/drive/MyDrive/kaggle/berline/Airbnb Berlin.csv')\n",
        "pd.set_option('display.max_columns', None)\n",
        "\n"
      ],
      "id": "fbc121e30a2defb3",
      "outputs": [],
      "execution_count": 23
    },
    {
      "cell_type": "markdown",
      "source": [
        "### Data Prepeartion"
      ],
      "metadata": {
        "id": "NvaOP7nUMNkk"
      },
      "id": "NvaOP7nUMNkk"
    },
    {
      "cell_type": "markdown",
      "source": [
        "### feature selection  (round #1)\n",
        "in this section we going to drop all the.\n",
        "* redundant / duplicate data.\n",
        "* drop all the column that contains same value , these data is not useful.\n",
        "* drop columns that almost not containing any data.\n",
        "* drop all the data the clearly will not help me during this jurney , like (Urls , reviewer  id , reviewer name ... )"
      ],
      "metadata": {
        "id": "379IX769MmHH"
      },
      "id": "379IX769MmHH"
    },
    {
      "cell_type": "code",
      "source": [
        "df = df.drop(columns=['Review ID', 'Reviewer ID', 'Reviewer Name', 'Listing URL','Listing Name','Host ID', 'Host URL', 'Host Name',\n",
        "                           'City', 'Country Code', 'Country','First Review', 'Last Review', 'Square Feet', 'Business Travel Ready',\n",
        "            ])"
      ],
      "metadata": {
        "id": "GOdxk4MZjQKW"
      },
      "id": "GOdxk4MZjQKW",
      "execution_count": 24,
      "outputs": []
    },
    {
      "cell_type": "markdown",
      "source": [
        "# splite the review_date to day , month , year"
      ],
      "metadata": {
        "id": "ylRthKdM8ad_"
      },
      "id": "ylRthKdM8ad_"
    },
    {
      "cell_type": "code",
      "source": [
        "# df['review_date'] = pd.to_datetime(df['review_date'])\n",
        "# df['year'] = df['review_date'].dt.year\n",
        "# df['month'] = df['review_date'].dt.month\n",
        "# df['day'] = df['review_date'].dt.day\n"
      ],
      "metadata": {
        "id": "UIfPd0f60sXB"
      },
      "id": "UIfPd0f60sXB",
      "execution_count": 25,
      "outputs": []
    },
    {
      "cell_type": "code",
      "source": [
        "print(df.info())"
      ],
      "metadata": {
        "colab": {
          "base_uri": "https://localhost:8080/"
        },
        "id": "7BYqMzYjQ00p",
        "outputId": "4f89243b-be63-4d67-8f5a-ccd5d25fefd3"
      },
      "id": "7BYqMzYjQ00p",
      "execution_count": 26,
      "outputs": [
        {
          "output_type": "stream",
          "name": "stdout",
          "text": [
            "<class 'pandas.core.frame.DataFrame'>\n",
            "RangeIndex: 456961 entries, 0 to 456960\n",
            "Data columns (total 32 columns):\n",
            " #   Column                Non-Null Count   Dtype  \n",
            "---  ------                --------------   -----  \n",
            " 0   index                 456961 non-null  int64  \n",
            " 1   review_date           452805 non-null  object \n",
            " 2   Comments              452595 non-null  object \n",
            " 3   Listing ID            456961 non-null  int64  \n",
            " 4   Host Since            456913 non-null  object \n",
            " 5   Host Response Time    398194 non-null  object \n",
            " 6   Host Response Rate    398194 non-null  object \n",
            " 7   Is Superhost          456913 non-null  object \n",
            " 8   neighbourhood         456961 non-null  object \n",
            " 9   Neighborhood Group    456961 non-null  object \n",
            " 10  Postal Code           449258 non-null  object \n",
            " 11  Latitude              456961 non-null  float64\n",
            " 12  Longitude             456961 non-null  float64\n",
            " 13  Is Exact Location     456961 non-null  object \n",
            " 14  Property Type         456961 non-null  object \n",
            " 15  Room Type             456961 non-null  object \n",
            " 16  Accomodates           456961 non-null  int64  \n",
            " 17  Bathrooms             456018 non-null  float64\n",
            " 18  Bedrooms              456244 non-null  float64\n",
            " 19  Beds                  456871 non-null  float64\n",
            " 20  Price                 456961 non-null  object \n",
            " 21  Guests Included       456961 non-null  int64  \n",
            " 22  Min Nights            456961 non-null  int64  \n",
            " 23  Reviews               456961 non-null  int64  \n",
            " 24  Overall Rating        452242 non-null  float64\n",
            " 25  Accuracy Rating       452209 non-null  float64\n",
            " 26  Cleanliness Rating    452211 non-null  float64\n",
            " 27  Checkin Rating        452188 non-null  float64\n",
            " 28  Communication Rating  452205 non-null  float64\n",
            " 29  Location Rating       452186 non-null  float64\n",
            " 30  Value Rating          452185 non-null  float64\n",
            " 31  Instant Bookable      456961 non-null  object \n",
            "dtypes: float64(12), int64(6), object(14)\n",
            "memory usage: 111.6+ MB\n",
            "None\n"
          ]
        }
      ]
    },
    {
      "cell_type": "markdown",
      "source": [
        "#Replace and clean values from numbers , like $,% and more"
      ],
      "metadata": {
        "id": "MKVxwvOxTBgr"
      },
      "id": "MKVxwvOxTBgr"
    },
    {
      "cell_type": "code",
      "source": [
        "# remove the $ from price\n",
        "df['Price'] = df['Price'].replace('[\\$,]', '', regex=True).astype(float)\n",
        "\n",
        "# remove the % from 'Host Response Rate'\n",
        "df['Host Response Rate'] = df['Host Response Rate'].replace('[\\%,]', '', regex=True).astype(float)\n",
        "\n",
        "# Fix Postal Code incorrect values, remove '\\n'and other irrelevant text\n",
        "df['Postal Code'] = df['Postal Code'].astype(str).str[:5]"
      ],
      "metadata": {
        "id": "FebFSR5jSL92"
      },
      "id": "FebFSR5jSL92",
      "execution_count": 27,
      "outputs": []
    },
    {
      "cell_type": "code",
      "source": [
        "df.shape"
      ],
      "metadata": {
        "colab": {
          "base_uri": "https://localhost:8080/"
        },
        "id": "QN-mnVdS0Hc9",
        "outputId": "04bafada-dcb7-4e94-989e-b4d61f206420"
      },
      "id": "QN-mnVdS0Hc9",
      "execution_count": 28,
      "outputs": [
        {
          "output_type": "execute_result",
          "data": {
            "text/plain": [
              "(456961, 32)"
            ]
          },
          "metadata": {},
          "execution_count": 28
        }
      ]
    },
    {
      "cell_type": "markdown",
      "source": [
        "# aggregate alls the reviews of Listing to one raw:\n",
        "columns aggreagted on 3 deferent ways:\n",
        "1. mean\n",
        "2. sum\n",
        "3. last value\n"
      ],
      "metadata": {
        "id": "Su6ImnY78pDC"
      },
      "id": "Su6ImnY78pDC"
    },
    {
      "cell_type": "code",
      "source": [
        "# Define columns by type\n",
        "rating_columns = [\n",
        "      \"Overall Rating\",\"Accuracy Rating\", \"Cleanliness Rating\", \"Checkin Rating\",\n",
        "    \"Communication Rating\", \"Location Rating\", \"Value Rating\",\"Price\"\n",
        "]\n",
        "\n",
        "sum_columns = [\"Reviews\"]\n",
        "\n",
        "categorical_columns = [\n",
        "    \"Host Response Time\", \"Neighborhood Group\",\"neighbourhood\", \"Room Type\"]\n",
        "\n",
        "choose_last_value_columns = [\"review_date\",\"Bedrooms\",\"Beds\",\"Bathrooms\",\"Host Response Rate\",\"Is Superhost\",\"Latitude\",\"Longitude\",\n",
        "                         \"Accomodates\", \"Guests Included\",\"Min Nights\",\"Instant Bookable\",\n",
        "                         \"Accomodates\", \"Host Since\",\"Is Exact Location\",\"Postal Code\", \"Latitude\", \"Longitude\",\"Property Type\"\n",
        "                         ]\n",
        "\n",
        "# Aggregation functions\n",
        "aggregation_functions = {\n",
        "    **{col: \"mean\" for col in rating_columns},  # Mean for ratings\n",
        "    **{col: \"sum\" for col in sum_columns},      # Sum for numerical values\n",
        "    **{col: 'last' for col in choose_last_value_columns},  # Concat unique values\n",
        "    **{col: lambda x: \", \".join(x.dropna().unique()) for col in categorical_columns}  # Concat unique values\n",
        "}\n",
        "\n",
        "# Group by 'Listing ID' and apply aggregation\n",
        "df_aggregated = df.groupby(\"Listing ID\").agg(aggregation_functions).reset_index()\n",
        "\n",
        "df_aggregated.head(2)"
      ],
      "metadata": {
        "id": "G8NdHGHdWXvP",
        "outputId": "87928ff3-b02d-4cd5-85de-31bffc08110b",
        "colab": {
          "base_uri": "https://localhost:8080/",
          "height": 202
        }
      },
      "id": "G8NdHGHdWXvP",
      "execution_count": 29,
      "outputs": [
        {
          "output_type": "execute_result",
          "data": {
            "text/plain": [
              "   Listing ID  Overall Rating  Accuracy Rating  Cleanliness Rating  \\\n",
              "0        2695           100.0             10.0                10.0   \n",
              "1        3176            92.0              9.0                 9.0   \n",
              "\n",
              "   Checkin Rating  Communication Rating  Location Rating  Value Rating  Price  \\\n",
              "0            10.0                  10.0              9.0          10.0   17.0   \n",
              "1             9.0                   9.0             10.0           9.0   90.0   \n",
              "\n",
              "   Reviews review_date  Bedrooms  Beds  Bathrooms  Host Response Rate  \\\n",
              "0       49    04-21-19       1.0   1.0        1.0                50.0   \n",
              "1    20736    10-29-18       1.0   2.0        1.0                50.0   \n",
              "\n",
              "  Is Superhost  Latitude  Longitude  Accomodates  Guests Included  Min Nights  \\\n",
              "0            f  52.54851   13.40455            2                1           2   \n",
              "1            f  52.53500   13.41758            4                2          62   \n",
              "\n",
              "  Instant Bookable Host Since Is Exact Location Postal Code Property Type  \\\n",
              "0                f   09-16-08                 t       10437     Apartment   \n",
              "1                f   10-19-08                 t       10405     Apartment   \n",
              "\n",
              "  Host Response Time Neighborhood Group    neighbourhood        Room Type  \n",
              "0       within a day             Pankow  Prenzlauer Berg     Private room  \n",
              "1       within a day             Pankow  Prenzlauer Berg  Entire home/apt  "
            ],
            "text/html": [
              "\n",
              "  <div id=\"df-92fbe7d4-1d6d-44a6-b24d-d5054d8494fa\" class=\"colab-df-container\">\n",
              "    <div>\n",
              "<style scoped>\n",
              "    .dataframe tbody tr th:only-of-type {\n",
              "        vertical-align: middle;\n",
              "    }\n",
              "\n",
              "    .dataframe tbody tr th {\n",
              "        vertical-align: top;\n",
              "    }\n",
              "\n",
              "    .dataframe thead th {\n",
              "        text-align: right;\n",
              "    }\n",
              "</style>\n",
              "<table border=\"1\" class=\"dataframe\">\n",
              "  <thead>\n",
              "    <tr style=\"text-align: right;\">\n",
              "      <th></th>\n",
              "      <th>Listing ID</th>\n",
              "      <th>Overall Rating</th>\n",
              "      <th>Accuracy Rating</th>\n",
              "      <th>Cleanliness Rating</th>\n",
              "      <th>Checkin Rating</th>\n",
              "      <th>Communication Rating</th>\n",
              "      <th>Location Rating</th>\n",
              "      <th>Value Rating</th>\n",
              "      <th>Price</th>\n",
              "      <th>Reviews</th>\n",
              "      <th>review_date</th>\n",
              "      <th>Bedrooms</th>\n",
              "      <th>Beds</th>\n",
              "      <th>Bathrooms</th>\n",
              "      <th>Host Response Rate</th>\n",
              "      <th>Is Superhost</th>\n",
              "      <th>Latitude</th>\n",
              "      <th>Longitude</th>\n",
              "      <th>Accomodates</th>\n",
              "      <th>Guests Included</th>\n",
              "      <th>Min Nights</th>\n",
              "      <th>Instant Bookable</th>\n",
              "      <th>Host Since</th>\n",
              "      <th>Is Exact Location</th>\n",
              "      <th>Postal Code</th>\n",
              "      <th>Property Type</th>\n",
              "      <th>Host Response Time</th>\n",
              "      <th>Neighborhood Group</th>\n",
              "      <th>neighbourhood</th>\n",
              "      <th>Room Type</th>\n",
              "    </tr>\n",
              "  </thead>\n",
              "  <tbody>\n",
              "    <tr>\n",
              "      <th>0</th>\n",
              "      <td>2695</td>\n",
              "      <td>100.0</td>\n",
              "      <td>10.0</td>\n",
              "      <td>10.0</td>\n",
              "      <td>10.0</td>\n",
              "      <td>10.0</td>\n",
              "      <td>9.0</td>\n",
              "      <td>10.0</td>\n",
              "      <td>17.0</td>\n",
              "      <td>49</td>\n",
              "      <td>04-21-19</td>\n",
              "      <td>1.0</td>\n",
              "      <td>1.0</td>\n",
              "      <td>1.0</td>\n",
              "      <td>50.0</td>\n",
              "      <td>f</td>\n",
              "      <td>52.54851</td>\n",
              "      <td>13.40455</td>\n",
              "      <td>2</td>\n",
              "      <td>1</td>\n",
              "      <td>2</td>\n",
              "      <td>f</td>\n",
              "      <td>09-16-08</td>\n",
              "      <td>t</td>\n",
              "      <td>10437</td>\n",
              "      <td>Apartment</td>\n",
              "      <td>within a day</td>\n",
              "      <td>Pankow</td>\n",
              "      <td>Prenzlauer Berg</td>\n",
              "      <td>Private room</td>\n",
              "    </tr>\n",
              "    <tr>\n",
              "      <th>1</th>\n",
              "      <td>3176</td>\n",
              "      <td>92.0</td>\n",
              "      <td>9.0</td>\n",
              "      <td>9.0</td>\n",
              "      <td>9.0</td>\n",
              "      <td>9.0</td>\n",
              "      <td>10.0</td>\n",
              "      <td>9.0</td>\n",
              "      <td>90.0</td>\n",
              "      <td>20736</td>\n",
              "      <td>10-29-18</td>\n",
              "      <td>1.0</td>\n",
              "      <td>2.0</td>\n",
              "      <td>1.0</td>\n",
              "      <td>50.0</td>\n",
              "      <td>f</td>\n",
              "      <td>52.53500</td>\n",
              "      <td>13.41758</td>\n",
              "      <td>4</td>\n",
              "      <td>2</td>\n",
              "      <td>62</td>\n",
              "      <td>f</td>\n",
              "      <td>10-19-08</td>\n",
              "      <td>t</td>\n",
              "      <td>10405</td>\n",
              "      <td>Apartment</td>\n",
              "      <td>within a day</td>\n",
              "      <td>Pankow</td>\n",
              "      <td>Prenzlauer Berg</td>\n",
              "      <td>Entire home/apt</td>\n",
              "    </tr>\n",
              "  </tbody>\n",
              "</table>\n",
              "</div>\n",
              "    <div class=\"colab-df-buttons\">\n",
              "\n",
              "  <div class=\"colab-df-container\">\n",
              "    <button class=\"colab-df-convert\" onclick=\"convertToInteractive('df-92fbe7d4-1d6d-44a6-b24d-d5054d8494fa')\"\n",
              "            title=\"Convert this dataframe to an interactive table.\"\n",
              "            style=\"display:none;\">\n",
              "\n",
              "  <svg xmlns=\"http://www.w3.org/2000/svg\" height=\"24px\" viewBox=\"0 -960 960 960\">\n",
              "    <path d=\"M120-120v-720h720v720H120Zm60-500h600v-160H180v160Zm220 220h160v-160H400v160Zm0 220h160v-160H400v160ZM180-400h160v-160H180v160Zm440 0h160v-160H620v160ZM180-180h160v-160H180v160Zm440 0h160v-160H620v160Z\"/>\n",
              "  </svg>\n",
              "    </button>\n",
              "\n",
              "  <style>\n",
              "    .colab-df-container {\n",
              "      display:flex;\n",
              "      gap: 12px;\n",
              "    }\n",
              "\n",
              "    .colab-df-convert {\n",
              "      background-color: #E8F0FE;\n",
              "      border: none;\n",
              "      border-radius: 50%;\n",
              "      cursor: pointer;\n",
              "      display: none;\n",
              "      fill: #1967D2;\n",
              "      height: 32px;\n",
              "      padding: 0 0 0 0;\n",
              "      width: 32px;\n",
              "    }\n",
              "\n",
              "    .colab-df-convert:hover {\n",
              "      background-color: #E2EBFA;\n",
              "      box-shadow: 0px 1px 2px rgba(60, 64, 67, 0.3), 0px 1px 3px 1px rgba(60, 64, 67, 0.15);\n",
              "      fill: #174EA6;\n",
              "    }\n",
              "\n",
              "    .colab-df-buttons div {\n",
              "      margin-bottom: 4px;\n",
              "    }\n",
              "\n",
              "    [theme=dark] .colab-df-convert {\n",
              "      background-color: #3B4455;\n",
              "      fill: #D2E3FC;\n",
              "    }\n",
              "\n",
              "    [theme=dark] .colab-df-convert:hover {\n",
              "      background-color: #434B5C;\n",
              "      box-shadow: 0px 1px 3px 1px rgba(0, 0, 0, 0.15);\n",
              "      filter: drop-shadow(0px 1px 2px rgba(0, 0, 0, 0.3));\n",
              "      fill: #FFFFFF;\n",
              "    }\n",
              "  </style>\n",
              "\n",
              "    <script>\n",
              "      const buttonEl =\n",
              "        document.querySelector('#df-92fbe7d4-1d6d-44a6-b24d-d5054d8494fa button.colab-df-convert');\n",
              "      buttonEl.style.display =\n",
              "        google.colab.kernel.accessAllowed ? 'block' : 'none';\n",
              "\n",
              "      async function convertToInteractive(key) {\n",
              "        const element = document.querySelector('#df-92fbe7d4-1d6d-44a6-b24d-d5054d8494fa');\n",
              "        const dataTable =\n",
              "          await google.colab.kernel.invokeFunction('convertToInteractive',\n",
              "                                                    [key], {});\n",
              "        if (!dataTable) return;\n",
              "\n",
              "        const docLinkHtml = 'Like what you see? Visit the ' +\n",
              "          '<a target=\"_blank\" href=https://colab.research.google.com/notebooks/data_table.ipynb>data table notebook</a>'\n",
              "          + ' to learn more about interactive tables.';\n",
              "        element.innerHTML = '';\n",
              "        dataTable['output_type'] = 'display_data';\n",
              "        await google.colab.output.renderOutput(dataTable, element);\n",
              "        const docLink = document.createElement('div');\n",
              "        docLink.innerHTML = docLinkHtml;\n",
              "        element.appendChild(docLink);\n",
              "      }\n",
              "    </script>\n",
              "  </div>\n",
              "\n",
              "\n",
              "<div id=\"df-af5a6f4b-4d97-48e4-aa98-ac2001ec80aa\">\n",
              "  <button class=\"colab-df-quickchart\" onclick=\"quickchart('df-af5a6f4b-4d97-48e4-aa98-ac2001ec80aa')\"\n",
              "            title=\"Suggest charts\"\n",
              "            style=\"display:none;\">\n",
              "\n",
              "<svg xmlns=\"http://www.w3.org/2000/svg\" height=\"24px\"viewBox=\"0 0 24 24\"\n",
              "     width=\"24px\">\n",
              "    <g>\n",
              "        <path d=\"M19 3H5c-1.1 0-2 .9-2 2v14c0 1.1.9 2 2 2h14c1.1 0 2-.9 2-2V5c0-1.1-.9-2-2-2zM9 17H7v-7h2v7zm4 0h-2V7h2v10zm4 0h-2v-4h2v4z\"/>\n",
              "    </g>\n",
              "</svg>\n",
              "  </button>\n",
              "\n",
              "<style>\n",
              "  .colab-df-quickchart {\n",
              "      --bg-color: #E8F0FE;\n",
              "      --fill-color: #1967D2;\n",
              "      --hover-bg-color: #E2EBFA;\n",
              "      --hover-fill-color: #174EA6;\n",
              "      --disabled-fill-color: #AAA;\n",
              "      --disabled-bg-color: #DDD;\n",
              "  }\n",
              "\n",
              "  [theme=dark] .colab-df-quickchart {\n",
              "      --bg-color: #3B4455;\n",
              "      --fill-color: #D2E3FC;\n",
              "      --hover-bg-color: #434B5C;\n",
              "      --hover-fill-color: #FFFFFF;\n",
              "      --disabled-bg-color: #3B4455;\n",
              "      --disabled-fill-color: #666;\n",
              "  }\n",
              "\n",
              "  .colab-df-quickchart {\n",
              "    background-color: var(--bg-color);\n",
              "    border: none;\n",
              "    border-radius: 50%;\n",
              "    cursor: pointer;\n",
              "    display: none;\n",
              "    fill: var(--fill-color);\n",
              "    height: 32px;\n",
              "    padding: 0;\n",
              "    width: 32px;\n",
              "  }\n",
              "\n",
              "  .colab-df-quickchart:hover {\n",
              "    background-color: var(--hover-bg-color);\n",
              "    box-shadow: 0 1px 2px rgba(60, 64, 67, 0.3), 0 1px 3px 1px rgba(60, 64, 67, 0.15);\n",
              "    fill: var(--button-hover-fill-color);\n",
              "  }\n",
              "\n",
              "  .colab-df-quickchart-complete:disabled,\n",
              "  .colab-df-quickchart-complete:disabled:hover {\n",
              "    background-color: var(--disabled-bg-color);\n",
              "    fill: var(--disabled-fill-color);\n",
              "    box-shadow: none;\n",
              "  }\n",
              "\n",
              "  .colab-df-spinner {\n",
              "    border: 2px solid var(--fill-color);\n",
              "    border-color: transparent;\n",
              "    border-bottom-color: var(--fill-color);\n",
              "    animation:\n",
              "      spin 1s steps(1) infinite;\n",
              "  }\n",
              "\n",
              "  @keyframes spin {\n",
              "    0% {\n",
              "      border-color: transparent;\n",
              "      border-bottom-color: var(--fill-color);\n",
              "      border-left-color: var(--fill-color);\n",
              "    }\n",
              "    20% {\n",
              "      border-color: transparent;\n",
              "      border-left-color: var(--fill-color);\n",
              "      border-top-color: var(--fill-color);\n",
              "    }\n",
              "    30% {\n",
              "      border-color: transparent;\n",
              "      border-left-color: var(--fill-color);\n",
              "      border-top-color: var(--fill-color);\n",
              "      border-right-color: var(--fill-color);\n",
              "    }\n",
              "    40% {\n",
              "      border-color: transparent;\n",
              "      border-right-color: var(--fill-color);\n",
              "      border-top-color: var(--fill-color);\n",
              "    }\n",
              "    60% {\n",
              "      border-color: transparent;\n",
              "      border-right-color: var(--fill-color);\n",
              "    }\n",
              "    80% {\n",
              "      border-color: transparent;\n",
              "      border-right-color: var(--fill-color);\n",
              "      border-bottom-color: var(--fill-color);\n",
              "    }\n",
              "    90% {\n",
              "      border-color: transparent;\n",
              "      border-bottom-color: var(--fill-color);\n",
              "    }\n",
              "  }\n",
              "</style>\n",
              "\n",
              "  <script>\n",
              "    async function quickchart(key) {\n",
              "      const quickchartButtonEl =\n",
              "        document.querySelector('#' + key + ' button');\n",
              "      quickchartButtonEl.disabled = true;  // To prevent multiple clicks.\n",
              "      quickchartButtonEl.classList.add('colab-df-spinner');\n",
              "      try {\n",
              "        const charts = await google.colab.kernel.invokeFunction(\n",
              "            'suggestCharts', [key], {});\n",
              "      } catch (error) {\n",
              "        console.error('Error during call to suggestCharts:', error);\n",
              "      }\n",
              "      quickchartButtonEl.classList.remove('colab-df-spinner');\n",
              "      quickchartButtonEl.classList.add('colab-df-quickchart-complete');\n",
              "    }\n",
              "    (() => {\n",
              "      let quickchartButtonEl =\n",
              "        document.querySelector('#df-af5a6f4b-4d97-48e4-aa98-ac2001ec80aa button');\n",
              "      quickchartButtonEl.style.display =\n",
              "        google.colab.kernel.accessAllowed ? 'block' : 'none';\n",
              "    })();\n",
              "  </script>\n",
              "</div>\n",
              "\n",
              "    </div>\n",
              "  </div>\n"
            ],
            "application/vnd.google.colaboratory.intrinsic+json": {
              "type": "dataframe",
              "variable_name": "df_aggregated"
            }
          },
          "metadata": {},
          "execution_count": 29
        }
      ]
    },
    {
      "cell_type": "code",
      "source": [
        "df_aggregated.shape"
      ],
      "metadata": {
        "colab": {
          "base_uri": "https://localhost:8080/"
        },
        "id": "ZlLRYqyDzZB_",
        "outputId": "dceb024b-9ac3-4604-e982-fa61b19f4a3d"
      },
      "id": "ZlLRYqyDzZB_",
      "execution_count": 30,
      "outputs": [
        {
          "output_type": "execute_result",
          "data": {
            "text/plain": [
              "(23536, 30)"
            ]
          },
          "metadata": {},
          "execution_count": 30
        }
      ]
    },
    {
      "cell_type": "markdown",
      "source": [
        "### reduce the following wide catigories :\n",
        "* Host Response Rate Grouped\n",
        "* Overall Rating\n",
        "* Neighbourhood Grouped\n",
        "* property_types\n",
        "* Postal Code"
      ],
      "metadata": {
        "id": "qefUZCXEVW4n"
      },
      "id": "qefUZCXEVW4n"
    },
    {
      "cell_type": "code",
      "source": [
        "# Define bins and labels for 'Host Response Rate'\n",
        "bins = [0, 50, 80, 95, 100]\n",
        "labels = [\"Low Response\", \"Moderate Response\", \"High Response\", \"Very High Response\"]\n",
        "\n",
        "# Apply pd.cut() to create a new binned column\n",
        "df_aggregated[\"Host Response Rate Grouped Cleansed\"] = pd.cut(df_aggregated[\"Host Response Rate\"], bins=bins, labels=labels, include_lowest=True)\n",
        "\n",
        "#  Reduce Categories\n",
        "df_aggregated['Overall Rating Grouped Cleansed'] = df_aggregated['Overall Rating'].apply(lambda x: np.ceil(x/10))\n",
        "\n",
        "\n",
        "# 2. Grouping neighbourhoods into Neighborhood Groups\n",
        "# neighbourhood_mapping = df_aggregated.groupby('neighbourhood')['Neighborhood Group'].first()\n",
        "# df_aggregated['Neighbourhood Grouped Cleansed'] = df_aggregated['neighbourhood'].map(neighbourhood_mapping)\n",
        "\n",
        "# 3. Reducing Property Types\n",
        "property_mapping = {\n",
        "    \"Villa\": \"Vacation Rental\",\n",
        "    \"Cottage\": \"Vacation Rental\",\n",
        "    \"Bungalow\": \"Vacation Rental\",\n",
        "    \"Cabin\": \"Vacation Rental\",\n",
        "    \"Tiny house\": \"Vacation Rental\",\n",
        "    \"Earth house\": \"Vacation Rental\",\n",
        "    \"Treehouse\": \"Vacation Rental\",\n",
        "    \"Hut\": \"Vacation Rental\",\n",
        "    \"Barn\": \"Vacation Rental\",\n",
        "    \"Houseboat\": \"Boats & Houseboats\",\n",
        "    \"Boat\": \"Boats & Houseboats\",\n",
        "    \"Camper/RV\": \"Mobile/Alternative Lodging\",\n",
        "    \"Cave\": \"Mobile/Alternative Lodging\",\n",
        "    \"Pension (South Korea)\": \"Mobile/Alternative Lodging\",\n",
        "    \"Casa particular (Cuba)\": \"Mobile/Alternative Lodging\",\n",
        "}\n",
        "\n",
        "# Apply mapping and assign 'Other' to rare categories\n",
        "top_property_types = [\n",
        "    \"Apartment\", \"Loft\", \"House\", \"Townhouse\", \"Condominium\", \"Serviced apartment\",\n",
        "    \"Hotel\", \"Hostel\", \"Guesthouse\", \"Bed and breakfast\", \"Boutique hotel\"\n",
        "]\n",
        "\n",
        "df_aggregated['Property Type Cleansed'] = df_aggregated['Property Type'].apply(\n",
        "    lambda x: property_mapping.get(x, x) if x in top_property_types or x in property_mapping else \"Other\"\n",
        ")\n",
        "\n",
        "# 4. Binning Postal Codes (first two digits represent broad area)\n",
        "# df_aggregated['Postal Code Cleansed'] = df_aggregated['Postal Code'].astype(str).str[:2]  # Use only first 2 digits"
      ],
      "metadata": {
        "id": "PVSfV65PVlpA"
      },
      "id": "PVSfV65PVlpA",
      "execution_count": 31,
      "outputs": []
    },
    {
      "cell_type": "markdown",
      "source": [
        "### Transform data:"
      ],
      "metadata": {
        "id": "Rel5bUc2Wz_P"
      },
      "id": "Rel5bUc2Wz_P"
    },
    {
      "cell_type": "code",
      "source": [
        "df_aggregated.shape"
      ],
      "metadata": {
        "id": "8vJLVepaVBsr",
        "outputId": "3b29864c-efc0-42eb-a0c1-eb125dd81da9",
        "colab": {
          "base_uri": "https://localhost:8080/"
        }
      },
      "id": "8vJLVepaVBsr",
      "execution_count": 32,
      "outputs": [
        {
          "output_type": "execute_result",
          "data": {
            "text/plain": [
              "(23536, 33)"
            ]
          },
          "metadata": {},
          "execution_count": 32
        }
      ]
    },
    {
      "cell_type": "code",
      "source": [
        "# Extracting years from date columns\n",
        "df_aggregated['Host Since'] = pd.to_datetime(df_aggregated['Host Since'])\n",
        "df_aggregated['Host Since Year Cleansed'] = df_aggregated['Host Since'].dt.year\n",
        "\n",
        "#transform true/false into bool\n",
        "df_aggregated['Instant Bookable Cleansed'] = df_aggregated['Instant Bookable'].replace({'t': True, 'f': False})\n",
        "df_aggregated['Is Superhost Cleansed'] = df_aggregated['Is Superhost'].replace({'t': True, 'f': False})\n",
        "df_aggregated['Is Exact Location Cleansed'] = df_aggregated['Is Exact Location'].replace({'t': True, 'f': False})\n",
        "df_aggregated['Instant Bookable Cleansed'] = df_aggregated['Instant Bookable'].replace({'t': True, 'f': False})"
      ],
      "metadata": {
        "id": "6DDxB-wXT7LC"
      },
      "id": "6DDxB-wXT7LC",
      "execution_count": 33,
      "outputs": []
    },
    {
      "cell_type": "code",
      "source": [
        "df_aggregated.drop(columns=['Host Since',\n",
        "                 'Is Exact Location',\"Host Response Rate\",\"Overall Rating\",\"Instant Bookable\",\"Is Superhost\",\"Instant Bookable\",\"Property Type\"\n",
        "                 ], inplace=True)"
      ],
      "metadata": {
        "id": "ORZjC_8zW0yf"
      },
      "id": "ORZjC_8zW0yf",
      "execution_count": 34,
      "outputs": []
    },
    {
      "cell_type": "code",
      "source": [
        "df_aggregated.shape"
      ],
      "metadata": {
        "id": "8OPMG9yVV-Zi",
        "outputId": "5bcb2b73-1c77-43b2-82b5-3374ac54d319",
        "colab": {
          "base_uri": "https://localhost:8080/"
        }
      },
      "id": "8OPMG9yVV-Zi",
      "execution_count": 35,
      "outputs": [
        {
          "output_type": "execute_result",
          "data": {
            "text/plain": [
              "(23536, 30)"
            ]
          },
          "metadata": {},
          "execution_count": 35
        }
      ]
    },
    {
      "cell_type": "markdown",
      "source": [
        "### Generating new features from existing data:\n",
        "Calculate the distance of each listing from Berlin's center and join each listing to a group.\n",
        "Each group will contain listings that are within a specific distance from the center"
      ],
      "metadata": {
        "id": "PRU3zOm3XOjm"
      },
      "id": "PRU3zOm3XOjm"
    },
    {
      "cell_type": "code",
      "source": [
        "df_aggregated.info()"
      ],
      "metadata": {
        "id": "MRUgOip8ZJD7",
        "outputId": "e88ba6fa-516b-4041-fa4a-ea29f985ea53",
        "colab": {
          "base_uri": "https://localhost:8080/"
        }
      },
      "id": "MRUgOip8ZJD7",
      "execution_count": 36,
      "outputs": [
        {
          "output_type": "stream",
          "name": "stdout",
          "text": [
            "<class 'pandas.core.frame.DataFrame'>\n",
            "RangeIndex: 23536 entries, 0 to 23535\n",
            "Data columns (total 30 columns):\n",
            " #   Column                               Non-Null Count  Dtype   \n",
            "---  ------                               --------------  -----   \n",
            " 0   Listing ID                           23536 non-null  int64   \n",
            " 1   Accuracy Rating                      18888 non-null  float64 \n",
            " 2   Cleanliness Rating                   18892 non-null  float64 \n",
            " 3   Checkin Rating                       18870 non-null  float64 \n",
            " 4   Communication Rating                 18886 non-null  float64 \n",
            " 5   Location Rating                      18871 non-null  float64 \n",
            " 6   Value Rating                         18868 non-null  float64 \n",
            " 7   Price                                23536 non-null  float64 \n",
            " 8   Reviews                              23536 non-null  int64   \n",
            " 9   review_date                          19380 non-null  object  \n",
            " 10  Bedrooms                             23516 non-null  float64 \n",
            " 11  Beds                                 23501 non-null  float64 \n",
            " 12  Bathrooms                            23507 non-null  float64 \n",
            " 13  Latitude                             23536 non-null  float64 \n",
            " 14  Longitude                            23536 non-null  float64 \n",
            " 15  Accomodates                          23536 non-null  int64   \n",
            " 16  Guests Included                      23536 non-null  int64   \n",
            " 17  Min Nights                           23536 non-null  int64   \n",
            " 18  Postal Code                          23536 non-null  object  \n",
            " 19  Host Response Time                   23536 non-null  object  \n",
            " 20  Neighborhood Group                   23536 non-null  object  \n",
            " 21  neighbourhood                        23536 non-null  object  \n",
            " 22  Room Type                            23536 non-null  object  \n",
            " 23  Host Response Rate Grouped Cleansed  13046 non-null  category\n",
            " 24  Overall Rating Grouped Cleansed      18914 non-null  float64 \n",
            " 25  Property Type Cleansed               23536 non-null  object  \n",
            " 26  Host Since Year Cleansed             23515 non-null  float64 \n",
            " 27  Instant Bookable Cleansed            23536 non-null  bool    \n",
            " 28  Is Superhost Cleansed                23515 non-null  object  \n",
            " 29  Is Exact Location Cleansed           23536 non-null  bool    \n",
            "dtypes: bool(2), category(1), float64(14), int64(5), object(8)\n",
            "memory usage: 4.9+ MB\n"
          ]
        }
      ]
    },
    {
      "cell_type": "code",
      "source": [
        "df_aggregated.to_pickle(\"/content/drive/MyDrive/kaggle/berline/ready_for_eda.pkl\")"
      ],
      "metadata": {
        "id": "1OSQhmMo_Dap"
      },
      "id": "1OSQhmMo_Dap",
      "execution_count": 37,
      "outputs": []
    },
    {
      "cell_type": "code",
      "source": [
        "df_aggregated.shape"
      ],
      "metadata": {
        "colab": {
          "base_uri": "https://localhost:8080/"
        },
        "id": "zbh2kY1k7J13",
        "outputId": "dfb47e4b-4b7e-447b-b5b0-2316edf4ef29"
      },
      "id": "zbh2kY1k7J13",
      "execution_count": 38,
      "outputs": [
        {
          "output_type": "execute_result",
          "data": {
            "text/plain": [
              "(23536, 30)"
            ]
          },
          "metadata": {},
          "execution_count": 38
        }
      ]
    }
  ],
  "metadata": {
    "kernelspec": {
      "display_name": "Python 3",
      "language": "python",
      "name": "python3"
    },
    "language_info": {
      "codemirror_mode": {
        "name": "ipython",
        "version": 2
      },
      "file_extension": ".py",
      "mimetype": "text/x-python",
      "name": "python",
      "nbconvert_exporter": "python",
      "pygments_lexer": "ipython2",
      "version": "2.7.6"
    },
    "colab": {
      "provenance": []
    }
  },
  "nbformat": 4,
  "nbformat_minor": 5
}